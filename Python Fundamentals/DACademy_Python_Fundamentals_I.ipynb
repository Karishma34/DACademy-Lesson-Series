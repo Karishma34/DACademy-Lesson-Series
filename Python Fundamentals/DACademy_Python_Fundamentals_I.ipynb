{
  "nbformat": 4,
  "nbformat_minor": 0,
  "metadata": {
    "colab": {
      "provenance": []
    },
    "kernelspec": {
      "name": "python3",
      "display_name": "Python 3"
    },
    "language_info": {
      "name": "python"
    }
  },
  "cells": [
    {
      "cell_type": "markdown",
      "source": [
        "DACademy Python Fundamentals "
      ],
      "metadata": {
        "id": "IRsLnI9BIlB2"
      }
    },
    {
      "cell_type": "code",
      "execution_count": null,
      "metadata": {
        "colab": {
          "base_uri": "https://localhost:8080/"
        },
        "id": "GZmRmr1uIPoh",
        "outputId": "e5967e6a-a117-4a90-e120-120ef5109ac3"
      },
      "outputs": [
        {
          "output_type": "stream",
          "name": "stdout",
          "text": [
            "Hello World\n"
          ]
        }
      ],
      "source": [
        "#comment\n",
        "print('Hello World')"
      ]
    },
    {
      "cell_type": "markdown",
      "source": [
        "Numeric Data Types"
      ],
      "metadata": {
        "id": "43pW4C_uJMJ1"
      }
    },
    {
      "cell_type": "code",
      "source": [
        "# integers\n",
        "print(10)\n",
        "\n",
        "#long integers\n",
        "print(2**32)\n",
        "\n",
        "#float - decimals \n",
        "print(3.14)\n",
        "\n",
        "#imaginary numbers \n",
        "print((2+3j))"
      ],
      "metadata": {
        "colab": {
          "base_uri": "https://localhost:8080/"
        },
        "id": "BZPuOJPUIqXq",
        "outputId": "d06f8db3-a769-4b30-9e0a-c86eb09612f4"
      },
      "execution_count": null,
      "outputs": [
        {
          "output_type": "stream",
          "name": "stdout",
          "text": [
            "10\n",
            "4294967296\n",
            "3.14\n",
            "(2+3j)\n"
          ]
        }
      ]
    },
    {
      "cell_type": "markdown",
      "source": [
        "Boolean "
      ],
      "metadata": {
        "id": "K1cgizeHJny9"
      }
    },
    {
      "cell_type": "code",
      "source": [
        "a = True\n",
        "b = 10%3\n",
        "c=bool(a==b)\n",
        "print(c)"
      ],
      "metadata": {
        "colab": {
          "base_uri": "https://localhost:8080/"
        },
        "id": "BVS88lp6Jml3",
        "outputId": "0d2f758e-e993-472d-baa6-389c9e13a5a4"
      },
      "execution_count": null,
      "outputs": [
        {
          "output_type": "stream",
          "name": "stdout",
          "text": [
            "True\n"
          ]
        }
      ]
    },
    {
      "cell_type": "markdown",
      "source": [
        "Sequence Type"
      ],
      "metadata": {
        "id": "-e645BoDKTPg"
      }
    },
    {
      "cell_type": "code",
      "source": [
        "name = 'Karishma'\n",
        "print(name)\n",
        "\n",
        "last_name = 'Chandramohan Amudha'\n",
        "print('Full name: ' + name + ' ' + last_name)"
      ],
      "metadata": {
        "colab": {
          "base_uri": "https://localhost:8080/"
        },
        "id": "Spdop1D0KPe0",
        "outputId": "f71b5b86-304c-4e7f-f661-d16c162a62ef"
      },
      "execution_count": null,
      "outputs": [
        {
          "output_type": "stream",
          "name": "stdout",
          "text": [
            "Karishma\n",
            "Full name: Karishma Chandramohan Amudha\n"
          ]
        }
      ]
    },
    {
      "cell_type": "markdown",
      "source": [
        "String Formatting"
      ],
      "metadata": {
        "id": "RPCaoHm3K3n9"
      }
    },
    {
      "cell_type": "code",
      "source": [
        "print(\"Full name: {0} {1}\".format(name, last_name))"
      ],
      "metadata": {
        "colab": {
          "base_uri": "https://localhost:8080/"
        },
        "id": "EQIRH8K5KXKw",
        "outputId": "badeb017-0867-49ab-c9b9-dd4007a78590"
      },
      "execution_count": null,
      "outputs": [
        {
          "output_type": "stream",
          "name": "stdout",
          "text": [
            "Full name: Karishma Chandramohan Amudha\n"
          ]
        }
      ]
    },
    {
      "cell_type": "markdown",
      "source": [
        "Left Alignment"
      ],
      "metadata": {
        "id": "UHUGm0RcMQBK"
      }
    },
    {
      "cell_type": "code",
      "source": [
        "name1 = 'Obi wan'\n",
        "last_name1 = 'Kenobi'\n",
        "name2 = 'Anakin'\n",
        "last_name2 = 'Skywalker'\n",
        "print(\"{0:10} {1:10}\".format(\"Name\", \"Last Name\"))\n",
        "print(\"{0:10} {1:10}\".format(name1, last_name1))\n",
        "print(\"{0:10} {1:10}\".format(name2, last_name2))"
      ],
      "metadata": {
        "colab": {
          "base_uri": "https://localhost:8080/"
        },
        "id": "1RfQjb4gK-MO",
        "outputId": "efebe26a-8903-4d06-a9c5-c10332a1f6f9"
      },
      "execution_count": null,
      "outputs": [
        {
          "output_type": "stream",
          "name": "stdout",
          "text": [
            "Name       Last Name \n",
            "Obi wan    Kenobi    \n",
            "Anakin     Skywalker \n"
          ]
        }
      ]
    },
    {
      "cell_type": "markdown",
      "source": [
        "Right Alignment"
      ],
      "metadata": {
        "id": "WuQPhDbBMgTE"
      }
    },
    {
      "cell_type": "code",
      "source": [
        "name1 = 'Obi wan'\n",
        "last_name1 = 'Kenobi'\n",
        "name2 = 'Anakin'\n",
        "last_name2 = 'Skywalker'\n",
        "print(\"{0:>10} {1:>10}\".format(\"Name\", \"Last Name\"))\n",
        "print(\"{0:>10} {1:>10}\".format(name1, last_name1))\n",
        "print(\"{0:>10} {1:>10}\".format(name2, last_name2))"
      ],
      "metadata": {
        "colab": {
          "base_uri": "https://localhost:8080/"
        },
        "id": "ne_waJRvMOEM",
        "outputId": "468e9e71-334f-47c1-f472-110c20d71015"
      },
      "execution_count": null,
      "outputs": [
        {
          "output_type": "stream",
          "name": "stdout",
          "text": [
            "      Name  Last Name\n",
            "   Obi wan     Kenobi\n",
            "    Anakin  Skywalker\n"
          ]
        }
      ]
    },
    {
      "cell_type": "markdown",
      "source": [
        "Center Alignment"
      ],
      "metadata": {
        "id": "Yivn3tABMtOL"
      }
    },
    {
      "cell_type": "code",
      "source": [
        "name1 = 'Obi wan'\n",
        "last_name1 = 'Kenobi'\n",
        "name2 = 'Anakin'\n",
        "last_name2 = 'Skywalker'\n",
        "print(\"{0:^10} {1:10}\".format(\"Name\", \"Last Name\"))\n",
        "print(\"{0:^10} {1:10}\".format(name1, last_name1))\n",
        "print(\"{0:^10} {1:10}\".format(name2, last_name2))"
      ],
      "metadata": {
        "colab": {
          "base_uri": "https://localhost:8080/"
        },
        "id": "BSKB5QQoMaeZ",
        "outputId": "d4554c04-3ecb-4bd7-9bce-a2741731318c"
      },
      "execution_count": null,
      "outputs": [
        {
          "output_type": "stream",
          "name": "stdout",
          "text": [
            "   Name    Last Name \n",
            " Obi wan   Kenobi    \n",
            "  Anakin   Skywalker \n"
          ]
        }
      ]
    },
    {
      "cell_type": "markdown",
      "source": [
        "Lists"
      ],
      "metadata": {
        "id": "eyG2bCRgNNiK"
      }
    },
    {
      "cell_type": "code",
      "source": [
        "list1=[]\n",
        "list2=['simran', 'karishma', 'anthony']\n",
        "mixedlist = [True, 'simran', 173, 3.14]\n",
        "print(mixedlist)\n",
        "print(list2)"
      ],
      "metadata": {
        "colab": {
          "base_uri": "https://localhost:8080/"
        },
        "id": "e5abfCwfMk7W",
        "outputId": "4877112d-e837-4e11-81f1-80827378a3c6"
      },
      "execution_count": null,
      "outputs": [
        {
          "output_type": "stream",
          "name": "stdout",
          "text": [
            "[True, 'simran', 173, 3.14]\n",
            "['simran', 'karishma', 'anthony']\n"
          ]
        }
      ]
    },
    {
      "cell_type": "code",
      "source": [
        "#append list\n",
        "list1.append(10)\n",
        "print(list1)\n",
        "list1.append('Hi')\n",
        "print(list1)"
      ],
      "metadata": {
        "colab": {
          "base_uri": "https://localhost:8080/"
        },
        "id": "dEsK3MxVNg5v",
        "outputId": "d92a0c0f-52f5-4adb-9dab-ad9b177c64b1"
      },
      "execution_count": null,
      "outputs": [
        {
          "output_type": "stream",
          "name": "stdout",
          "text": [
            "[10]\n",
            "[10, 'Hi']\n"
          ]
        }
      ]
    },
    {
      "cell_type": "markdown",
      "source": [
        "List Insert"
      ],
      "metadata": {
        "id": "FNEzyheUOcv7"
      }
    },
    {
      "cell_type": "code",
      "source": [
        "#\n",
        "list1.insert(0,50)\n",
        "print(list1)"
      ],
      "metadata": {
        "colab": {
          "base_uri": "https://localhost:8080/"
        },
        "id": "YcJcnBqaN8k8",
        "outputId": "05a4f46c-67c1-4913-d445-2379ad4fe619"
      },
      "execution_count": null,
      "outputs": [
        {
          "output_type": "stream",
          "name": "stdout",
          "text": [
            "[50, 10, 'Hi']\n"
          ]
        }
      ]
    },
    {
      "cell_type": "markdown",
      "source": [
        "List delete"
      ],
      "metadata": {
        "id": "AD-B5iJqOtHh"
      }
    },
    {
      "cell_type": "code",
      "source": [
        "del list1[1]\n",
        "print(list1)\n",
        "del list2[2]\n",
        "print(list2)"
      ],
      "metadata": {
        "colab": {
          "base_uri": "https://localhost:8080/"
        },
        "id": "OmHgo8FdOppT",
        "outputId": "0b4ba3d6-3353-41c7-aab3-21ec5ef462f5"
      },
      "execution_count": null,
      "outputs": [
        {
          "output_type": "stream",
          "name": "stdout",
          "text": [
            "[50, 'Hi']\n",
            "['simran', 'karishma']\n"
          ]
        }
      ]
    },
    {
      "cell_type": "markdown",
      "source": [
        "List Remove"
      ],
      "metadata": {
        "id": "Qhh2k5nMPHXt"
      }
    },
    {
      "cell_type": "code",
      "source": [
        "list1.remove(50)\n",
        "print(list1)"
      ],
      "metadata": {
        "colab": {
          "base_uri": "https://localhost:8080/"
        },
        "id": "tx26kN10Ozto",
        "outputId": "dcf35040-c621-440b-aa81-2053e14c05c4"
      },
      "execution_count": null,
      "outputs": [
        {
          "output_type": "stream",
          "name": "stdout",
          "text": [
            "['Hi']\n"
          ]
        }
      ]
    },
    {
      "cell_type": "code",
      "source": [
        "list2.remove('simran')\n",
        "print(list2)"
      ],
      "metadata": {
        "colab": {
          "base_uri": "https://localhost:8080/"
        },
        "id": "vdZ-1BqgPQ5Z",
        "outputId": "0f174c54-5af1-4222-e0ba-1d6eae09c4f8"
      },
      "execution_count": null,
      "outputs": [
        {
          "output_type": "stream",
          "name": "stdout",
          "text": [
            "['karishma']\n"
          ]
        }
      ]
    },
    {
      "cell_type": "markdown",
      "source": [
        "What will happen if I remove one of the duplicate item in the list?"
      ],
      "metadata": {
        "id": "Iubq9rHQQMyB"
      }
    },
    {
      "cell_type": "code",
      "source": [
        "list3=[10,10,10]"
      ],
      "metadata": {
        "id": "v3--EejPPs2j"
      },
      "execution_count": null,
      "outputs": []
    },
    {
      "cell_type": "code",
      "source": [
        "list3"
      ],
      "metadata": {
        "colab": {
          "base_uri": "https://localhost:8080/"
        },
        "id": "diyLALnLQCQf",
        "outputId": "ec655e77-4415-40bf-8b8d-15a4bca740c9"
      },
      "execution_count": null,
      "outputs": [
        {
          "output_type": "execute_result",
          "data": {
            "text/plain": [
              "[10, 10, 10]"
            ]
          },
          "metadata": {},
          "execution_count": 17
        }
      ]
    },
    {
      "cell_type": "code",
      "source": [
        "list3.remove(10)"
      ],
      "metadata": {
        "id": "FWl4KdVxQDG9"
      },
      "execution_count": null,
      "outputs": []
    },
    {
      "cell_type": "code",
      "source": [
        "list3"
      ],
      "metadata": {
        "colab": {
          "base_uri": "https://localhost:8080/"
        },
        "id": "OwDiAnH8QFYD",
        "outputId": "794a8e01-518b-4533-d9fd-71480886026d"
      },
      "execution_count": null,
      "outputs": [
        {
          "output_type": "execute_result",
          "data": {
            "text/plain": [
              "[10, 10]"
            ]
          },
          "metadata": {},
          "execution_count": 19
        }
      ]
    },
    {
      "cell_type": "markdown",
      "source": [
        "Ans: It will only remove the first occurence of the item to be removed"
      ],
      "metadata": {
        "id": "cMCTeK4yQePZ"
      }
    },
    {
      "cell_type": "markdown",
      "source": [
        "List indexing"
      ],
      "metadata": {
        "id": "eulqJcXlQcch"
      }
    },
    {
      "cell_type": "code",
      "source": [
        "lista = [1,2,3,1,4]\n",
        "index_a = lista.index(3)\n",
        "print(index_a)"
      ],
      "metadata": {
        "colab": {
          "base_uri": "https://localhost:8080/"
        },
        "id": "CbVbac_RQGdG",
        "outputId": "5e321055-7d0a-4868-b170-cfb2468180fe"
      },
      "execution_count": null,
      "outputs": [
        {
          "output_type": "stream",
          "name": "stdout",
          "text": [
            "2\n"
          ]
        }
      ]
    },
    {
      "cell_type": "markdown",
      "source": [
        "Min and max function in a list"
      ],
      "metadata": {
        "id": "x7Lk8b5LRAch"
      }
    },
    {
      "cell_type": "code",
      "source": [
        "#min and max functions\n",
        "min_lista = min(lista)\n",
        "print(min_lista)\n",
        "\n",
        "max_lista = max(lista)\n",
        "print(max_lista)"
      ],
      "metadata": {
        "colab": {
          "base_uri": "https://localhost:8080/"
        },
        "id": "0OjOEoKRQqf9",
        "outputId": "29f0b985-01ed-4787-d80d-0b25db8c9410"
      },
      "execution_count": null,
      "outputs": [
        {
          "output_type": "stream",
          "name": "stdout",
          "text": [
            "1\n",
            "4\n"
          ]
        }
      ]
    },
    {
      "cell_type": "markdown",
      "source": [
        "Sorted Function for lists"
      ],
      "metadata": {
        "id": "uIn7YUXiRaZd"
      }
    },
    {
      "cell_type": "code",
      "source": [
        "listNum = [4,2,1,3,6,5,9]\n",
        "sorted_NumList = sorted(listNum)\n",
        "print(sorted_NumList)"
      ],
      "metadata": {
        "colab": {
          "base_uri": "https://localhost:8080/"
        },
        "id": "BFa4E9O7RUqo",
        "outputId": "fd5c3e3c-d584-4610-ced8-61a5c2089cfb"
      },
      "execution_count": null,
      "outputs": [
        {
          "output_type": "stream",
          "name": "stdout",
          "text": [
            "[1, 2, 3, 4, 5, 6, 9]\n"
          ]
        }
      ]
    },
    {
      "cell_type": "code",
      "source": [
        "listNum2 = [4,2,1,3,6,5,9]\n",
        "listNum2.reverse()\n",
        "print(listNum2)"
      ],
      "metadata": {
        "colab": {
          "base_uri": "https://localhost:8080/"
        },
        "id": "C1fliK8FRlzS",
        "outputId": "cfaf47b0-6561-4052-8ec9-fa24ddc8324a"
      },
      "execution_count": null,
      "outputs": [
        {
          "output_type": "stream",
          "name": "stdout",
          "text": [
            "[9, 5, 6, 3, 1, 2, 4]\n"
          ]
        }
      ]
    },
    {
      "cell_type": "code",
      "source": [
        "listNum2.clear()\n",
        "print(listNum2)"
      ],
      "metadata": {
        "colab": {
          "base_uri": "https://localhost:8080/"
        },
        "id": "PfclQ4pvSIcw",
        "outputId": "8c6892eb-3af3-486e-fd5b-3e299ac9d0e4"
      },
      "execution_count": null,
      "outputs": [
        {
          "output_type": "stream",
          "name": "stdout",
          "text": [
            "[]\n"
          ]
        }
      ]
    },
    {
      "cell_type": "markdown",
      "source": [
        "Adding of lists together"
      ],
      "metadata": {
        "id": "QEpfsWK2SSMY"
      }
    },
    {
      "cell_type": "code",
      "source": [
        "list1 = ['Simran', 'Obi wan']\n",
        "list2 = [2, 3, 4]\n",
        "listAdded = list1 + list2\n",
        "print(listAdded)"
      ],
      "metadata": {
        "colab": {
          "base_uri": "https://localhost:8080/"
        },
        "id": "rjR0oJikSL_l",
        "outputId": "56951173-6c46-42c5-aeea-e33e48137200"
      },
      "execution_count": null,
      "outputs": [
        {
          "output_type": "stream",
          "name": "stdout",
          "text": [
            "['Simran', 'Obi wan', 2, 3, 4]\n"
          ]
        }
      ]
    },
    {
      "cell_type": "markdown",
      "source": [
        "List Multiply"
      ],
      "metadata": {
        "id": "xchTHzl5WqBu"
      }
    },
    {
      "cell_type": "code",
      "source": [
        "listNames = ['Ahsoka', 'Crosshair']\n",
        "listMultiplied = listNames * 2\n",
        "print(listMultiplied)"
      ],
      "metadata": {
        "colab": {
          "base_uri": "https://localhost:8080/"
        },
        "id": "QTdKl4WkSfVR",
        "outputId": "c838bc1d-3c0e-4e34-c443-2d00dc3b100b"
      },
      "execution_count": null,
      "outputs": [
        {
          "output_type": "stream",
          "name": "stdout",
          "text": [
            "['Ahsoka', 'Crosshair', 'Ahsoka', 'Crosshair']\n"
          ]
        }
      ]
    },
    {
      "cell_type": "markdown",
      "source": [
        "Tuples"
      ],
      "metadata": {
        "id": "mL4sQLwfW1D6"
      }
    },
    {
      "cell_type": "markdown",
      "source": [
        "Note: list has [] syntax; tuple has () syntax"
      ],
      "metadata": {
        "id": "CGSoYNGgXLnH"
      }
    },
    {
      "cell_type": "code",
      "source": [
        "parents = ('mother', 'father')"
      ],
      "metadata": {
        "id": "Ez_-_1XFW0JF"
      },
      "execution_count": null,
      "outputs": []
    },
    {
      "cell_type": "code",
      "source": [
        "type(parents)"
      ],
      "metadata": {
        "colab": {
          "base_uri": "https://localhost:8080/"
        },
        "id": "bpCFA_NEXKCr",
        "outputId": "f2567f54-d76d-4621-c6a1-fe9232468a18"
      },
      "execution_count": null,
      "outputs": [
        {
          "output_type": "execute_result",
          "data": {
            "text/plain": [
              "tuple"
            ]
          },
          "metadata": {},
          "execution_count": 28
        }
      ]
    },
    {
      "cell_type": "code",
      "source": [
        "tuplelist = list(parents)"
      ],
      "metadata": {
        "id": "s8pNOqA2XbDo"
      },
      "execution_count": null,
      "outputs": []
    },
    {
      "cell_type": "code",
      "source": [
        "print(tuplelist)"
      ],
      "metadata": {
        "colab": {
          "base_uri": "https://localhost:8080/"
        },
        "id": "mpR2xX3OXoLZ",
        "outputId": "259668da-00ee-43e6-acec-7bc5b3bfe599"
      },
      "execution_count": null,
      "outputs": [
        {
          "output_type": "stream",
          "name": "stdout",
          "text": [
            "['mother', 'father']\n"
          ]
        }
      ]
    },
    {
      "cell_type": "code",
      "source": [
        "type(tuplelist)"
      ],
      "metadata": {
        "colab": {
          "base_uri": "https://localhost:8080/"
        },
        "id": "SgN4gtwKXqbe",
        "outputId": "75871e26-c4a8-49a0-f51f-fa5b3a5e169e"
      },
      "execution_count": null,
      "outputs": [
        {
          "output_type": "execute_result",
          "data": {
            "text/plain": [
              "list"
            ]
          },
          "metadata": {},
          "execution_count": 31
        }
      ]
    },
    {
      "cell_type": "code",
      "source": [
        "tuplelist.append('sister')\n",
        "print(tuplelist)"
      ],
      "metadata": {
        "colab": {
          "base_uri": "https://localhost:8080/"
        },
        "id": "yzmglPvYX2Bk",
        "outputId": "679cdf0c-7a6a-49a5-a955-d7b3a16144ec"
      },
      "execution_count": null,
      "outputs": [
        {
          "output_type": "stream",
          "name": "stdout",
          "text": [
            "['mother', 'father', 'sister']\n"
          ]
        }
      ]
    },
    {
      "cell_type": "code",
      "source": [
        "#converting list back to tuple \n",
        "tuple(tuplelist)\n",
        "len(tuplelist)"
      ],
      "metadata": {
        "colab": {
          "base_uri": "https://localhost:8080/"
        },
        "id": "SL49oe8zX6BJ",
        "outputId": "8d03c674-186d-4a37-e58f-73f17150ad96"
      },
      "execution_count": null,
      "outputs": [
        {
          "output_type": "execute_result",
          "data": {
            "text/plain": [
              "3"
            ]
          },
          "metadata": {},
          "execution_count": 33
        }
      ]
    },
    {
      "cell_type": "code",
      "source": [],
      "metadata": {
        "id": "35rcJi8iYThe"
      },
      "execution_count": null,
      "outputs": []
    }
  ]
}