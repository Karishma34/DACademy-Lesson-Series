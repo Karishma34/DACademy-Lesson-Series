{
  "nbformat": 4,
  "nbformat_minor": 0,
  "metadata": {
    "colab": {
      "provenance": [],
      "collapsed_sections": [
        "NPx9CrC3J8A-",
        "-AeMQhvQPuuT",
        "hDXMuRJUSmLq"
      ]
    },
    "kernelspec": {
      "name": "python3",
      "display_name": "Python 3"
    },
    "language_info": {
      "name": "python"
    }
  },
  "cells": [
    {
      "cell_type": "markdown",
      "source": [
        "#Contents for the day:\n",
        "1. Dictionary continuation \n",
        "2. For Loops\n",
        "3. Functions"
      ],
      "metadata": {
        "id": "P97oODzQG_vn"
      }
    },
    {
      "cell_type": "markdown",
      "source": [
        "##Getting list of all keys "
      ],
      "metadata": {
        "id": "NPx9CrC3J8A-"
      }
    },
    {
      "cell_type": "code",
      "source": [
        "#Personal Particulars\n",
        "Richard = {\n",
        "    \"first_name\": \"Richard\",\n",
        "    \"last_name\": \"Anderson\",\n",
        "    \"age\": 45,\n",
        "    \"tattoos\": True\n",
        "}\n",
        "print(Richard)"
      ],
      "metadata": {
        "colab": {
          "base_uri": "https://localhost:8080/"
        },
        "id": "OOP3b2mWKUVn",
        "outputId": "137c5f37-7441-4574-da74-0c81a6751205"
      },
      "execution_count": null,
      "outputs": [
        {
          "output_type": "stream",
          "name": "stdout",
          "text": [
            "{'first_name': 'Richard', 'last_name': 'Anderson', 'age': 45, 'tattoos': True}\n"
          ]
        }
      ]
    },
    {
      "cell_type": "code",
      "source": [
        "# Information about school records\n",
        "#nested dictionary\n",
        "sch_rec = {\n",
        "    \"name\": \"Ryan\",\n",
        "    \"grade\": 12,\n",
        "    \"score\":{\n",
        "        \"english\": 87,\n",
        "        \"math\": 90,\n",
        "        \"science\": 95,\n",
        "        \"mother-tongue\": 55\n",
        "    }\n",
        "}\n",
        "print(sch_rec)"
      ],
      "metadata": {
        "colab": {
          "base_uri": "https://localhost:8080/"
        },
        "id": "G3hAr7HqKWom",
        "outputId": "fc6f330d-f12e-4f05-a98e-27b10c2051fb"
      },
      "execution_count": null,
      "outputs": [
        {
          "output_type": "stream",
          "name": "stdout",
          "text": [
            "{'name': 'Ryan', 'grade': 12, 'score': {'english': 87, 'math': 90, 'science': 95, 'mother-tongue': 55}}\n"
          ]
        }
      ]
    },
    {
      "cell_type": "code",
      "execution_count": null,
      "metadata": {
        "colab": {
          "base_uri": "https://localhost:8080/"
        },
        "id": "wIJCqIpGElMQ",
        "outputId": "cfd545f9-201e-470c-a486-81409b98c339"
      },
      "outputs": [
        {
          "output_type": "stream",
          "name": "stdout",
          "text": [
            "dict_keys(['first_name', 'last_name', 'age', 'tattoos'])\n",
            "dict_keys(['name', 'grade', 'score'])\n",
            "dict_keys(['english', 'math', 'science', 'mother-tongue'])\n"
          ]
        }
      ],
      "source": [
        "keys = Richard.keys()\n",
        "print(keys)\n",
        "keys_nested = sch_rec.keys()\n",
        "keys_score = sch_rec['score'].keys()\n",
        "print(keys_nested)\n",
        "print(keys_score)"
      ]
    },
    {
      "cell_type": "markdown",
      "source": [
        "Returned list of keys is in arbitrary order"
      ],
      "metadata": {
        "id": "XFZbQ_oCLAm3"
      }
    },
    {
      "cell_type": "code",
      "source": [
        "all_keys = Richard.keys()\n",
        "for key in all_keys:\n",
        "  r = Richard.get(key)\n",
        "  print(\"key = {0}, value={1}\".format(key,r))"
      ],
      "metadata": {
        "colab": {
          "base_uri": "https://localhost:8080/"
        },
        "id": "IWJPdHsxLDHj",
        "outputId": "3fd778f2-6b11-4a79-eab3-c8dd05293a41"
      },
      "execution_count": null,
      "outputs": [
        {
          "output_type": "stream",
          "name": "stdout",
          "text": [
            "key = first_name, value=Richard\n",
            "key = last_name, value=Anderson\n",
            "key = age, value=45\n",
            "key = tattoos, value=True\n"
          ]
        }
      ]
    },
    {
      "cell_type": "markdown",
      "source": [
        "Getting list of all values"
      ],
      "metadata": {
        "id": "iNYmJQXRLaJY"
      }
    },
    {
      "cell_type": "code",
      "source": [
        "values = Richard.values()\n",
        "print(values)\n",
        "# Getting all values in a nested dictionary\n",
        "sch_rec = {\n",
        "    '001': {\"name\": \"Ryan\", \"grade\": 12, \"avg_score\": 95},\n",
        "    '002': {\"name\": \"Jaslyn\", \"grade\":12, \"avg_score\": 90}, \n",
        "    '003': {\"name\": \"Ronald\", \"grade\": 10, \"avg_score\": 55},\n",
        "    '004': {\"name\": \"Chad\", \"grade\":9, \"avg_score\": 67}, \n",
        "    '005': {\"name\": \"Joyce\", \"grade\": 8, \"avg_score\": 82.5},\n",
        "    '006': {\"name\": \"Amanda\", \"grade\":11, \"avg_score\": 98}\n",
        "\n",
        "}\n",
        "\n",
        "for id, info in sch_rec.items():\n",
        "  print(\"\\nStudent ID:\", id)\n",
        "  for key in info:\n",
        "    print(key + \":\", info[key])"
      ],
      "metadata": {
        "colab": {
          "base_uri": "https://localhost:8080/"
        },
        "id": "B79ZrLu8LP6t",
        "outputId": "608adbb3-f622-4d8c-d5b0-a96dc13ff617"
      },
      "execution_count": null,
      "outputs": [
        {
          "output_type": "stream",
          "name": "stdout",
          "text": [
            "dict_values(['Richard', 'Anderson', 45, True])\n",
            "\n",
            "Student ID: 001\n",
            "name: Ryan\n",
            "grade: 12\n",
            "avg_score: 95\n",
            "\n",
            "Student ID: 002\n",
            "name: Jaslyn\n",
            "grade: 12\n",
            "avg_score: 90\n",
            "\n",
            "Student ID: 003\n",
            "name: Ronald\n",
            "grade: 10\n",
            "avg_score: 55\n",
            "\n",
            "Student ID: 004\n",
            "name: Chad\n",
            "grade: 9\n",
            "avg_score: 67\n",
            "\n",
            "Student ID: 005\n",
            "name: Joyce\n",
            "grade: 8\n",
            "avg_score: 82.5\n",
            "\n",
            "Student ID: 006\n",
            "name: Amanda\n",
            "grade: 11\n",
            "avg_score: 98\n"
          ]
        }
      ]
    },
    {
      "cell_type": "markdown",
      "source": [
        "Changing existing values"
      ],
      "metadata": {
        "id": "tlz2TFR3MsZV"
      }
    },
    {
      "cell_type": "code",
      "source": [
        "#Changing existing values in a dictionary\n",
        "print(Richard.get(\"last_name\"))\n",
        "Richard[\"last_name\"] = \"Todd\"\n",
        "print(Richard.get(\"last_name\"))"
      ],
      "metadata": {
        "colab": {
          "base_uri": "https://localhost:8080/"
        },
        "id": "ny-4lA3-Mcgl",
        "outputId": "59c07252-fe4f-45f5-bc52-5ae563bbc61a"
      },
      "execution_count": null,
      "outputs": [
        {
          "output_type": "stream",
          "name": "stdout",
          "text": [
            "Anderson\n",
            "Todd\n"
          ]
        }
      ]
    },
    {
      "cell_type": "code",
      "source": [
        "#changing existing values in a nested dictionary\n",
        "print(sch_rec['001'].get('name'))\n",
        "sch_rec['001']['name'] = 'Ryan Tan'\n",
        "print(sch_rec['001'].get('name'))"
      ],
      "metadata": {
        "colab": {
          "base_uri": "https://localhost:8080/"
        },
        "id": "LgswO26sNDjC",
        "outputId": "4bf89ba5-d3be-44a1-ae07-ed0263b380df"
      },
      "execution_count": null,
      "outputs": [
        {
          "output_type": "stream",
          "name": "stdout",
          "text": [
            "Ryan\n",
            "Ryan Tan\n"
          ]
        }
      ]
    },
    {
      "cell_type": "markdown",
      "source": [
        "Adding a new key-value pair in a dictionary"
      ],
      "metadata": {
        "id": "iu6q7QXXNhVs"
      }
    },
    {
      "cell_type": "markdown",
      "source": [
        "Regular Dictionary"
      ],
      "metadata": {
        "id": "uANWjijNN5jL"
      }
    },
    {
      "cell_type": "code",
      "source": [
        "#Before alteration\n",
        "print(\"Before Alteration: \", Richard)"
      ],
      "metadata": {
        "colab": {
          "base_uri": "https://localhost:8080/"
        },
        "id": "rgIeRMiNNcHB",
        "outputId": "41a742ab-4913-494c-e9db-41288258d323"
      },
      "execution_count": null,
      "outputs": [
        {
          "output_type": "stream",
          "name": "stdout",
          "text": [
            "Before Alteration:  {'first_name': 'Richard', 'last_name': 'Todd', 'age': 45, 'tattoos': True}\n"
          ]
        }
      ]
    },
    {
      "cell_type": "code",
      "source": [
        "Richard['email'] = 'richard149@gmail.com'\n"
      ],
      "metadata": {
        "id": "6VyHrCLaNpqq"
      },
      "execution_count": null,
      "outputs": []
    },
    {
      "cell_type": "code",
      "source": [
        "#After alteration\n",
        "print(\"After Alteration: \", Richard)"
      ],
      "metadata": {
        "colab": {
          "base_uri": "https://localhost:8080/"
        },
        "id": "UDergbjwNw0b",
        "outputId": "1625c586-25c5-4b15-efd1-ef4e6e2493f2"
      },
      "execution_count": null,
      "outputs": [
        {
          "output_type": "stream",
          "name": "stdout",
          "text": [
            "After Alteration:  {'first_name': 'Richard', 'last_name': 'Todd', 'age': 45, 'tattoos': True, 'email': 'richard149@gmail.com'}\n"
          ]
        }
      ]
    },
    {
      "cell_type": "markdown",
      "source": [
        "Nested Dictionary"
      ],
      "metadata": {
        "id": "ZODIK8QVN7tf"
      }
    },
    {
      "cell_type": "code",
      "source": [
        "#Before alteration\n",
        "print(\"Before Alteration: \", sch_rec)"
      ],
      "metadata": {
        "colab": {
          "base_uri": "https://localhost:8080/"
        },
        "id": "_D6GvPVwN1cG",
        "outputId": "5fa526c0-af17-46a3-c3c9-9f98a4669458"
      },
      "execution_count": null,
      "outputs": [
        {
          "output_type": "stream",
          "name": "stdout",
          "text": [
            "Before Alteration:  {'001': {'name': 'Ryan Tan', 'grade': 12, 'avg_score': 95}, '002': {'name': 'Jaslyn', 'grade': 12, 'avg_score': 90}, '003': {'name': 'Ronald', 'grade': 10, 'avg_score': 55}, '004': {'name': 'Chad', 'grade': 9, 'avg_score': 67}, '005': {'name': 'Joyce', 'grade': 8, 'avg_score': 82.5}, '006': {'name': 'Amanda', 'grade': 11, 'avg_score': 98}}\n"
          ]
        }
      ]
    },
    {
      "cell_type": "code",
      "source": [
        "sch_rec['001']['email'] = 'rand001@gamil.com'\n",
        "sch_rec['002']['email'] = 'rand002@gmail.com'\n",
        "sch_rec['003']['email'] = 'rand003@gmail.com'\n",
        "sch_rec['004']['email'] = 'rand004@gmail.com'\n",
        "sch_rec['005']['email'] = 'rand005@gmail.com'\n",
        "sch_rec['006']['email'] = 'rand006@gmail.com'"
      ],
      "metadata": {
        "id": "mdI_rOPCOLx4"
      },
      "execution_count": null,
      "outputs": []
    },
    {
      "cell_type": "code",
      "source": [
        "#After alteration\n",
        "print(\"After Alteration: \", sch_rec)"
      ],
      "metadata": {
        "colab": {
          "base_uri": "https://localhost:8080/"
        },
        "id": "NgJTAiiSOMq5",
        "outputId": "5f599560-0c50-41a7-fb97-4b5f9cea9d62"
      },
      "execution_count": null,
      "outputs": [
        {
          "output_type": "stream",
          "name": "stdout",
          "text": [
            "After Alteration:  {'001': {'name': 'Ryan Tan', 'grade': 12, 'avg_score': 95, 'email': 'rand001@gamil.com'}, '002': {'name': 'Jaslyn', 'grade': 12, 'avg_score': 90, 'email': 'rand002@gmail.com'}, '003': {'name': 'Ronald', 'grade': 10, 'avg_score': 55, 'email': 'rand003@gmail.com'}, '004': {'name': 'Chad', 'grade': 9, 'avg_score': 67, 'email': 'rand004@gmail.com'}, '005': {'name': 'Joyce', 'grade': 8, 'avg_score': 82.5, 'email': 'rand005@gmail.com'}, '006': {'name': 'Amanda', 'grade': 11, 'avg_score': 98, 'email': 'rand006@gmail.com'}}\n"
          ]
        }
      ]
    },
    {
      "cell_type": "markdown",
      "source": [
        "Deleting a new key-value pair from a dictionary"
      ],
      "metadata": {
        "id": "uMbsXUvxOY-m"
      }
    },
    {
      "cell_type": "markdown",
      "source": [
        "Regular dictionary"
      ],
      "metadata": {
        "id": "VVEsYkoOOekm"
      }
    },
    {
      "cell_type": "code",
      "source": [
        "#Before alteration\n",
        "print(\"Before Alteration: \", Richard)"
      ],
      "metadata": {
        "colab": {
          "base_uri": "https://localhost:8080/"
        },
        "id": "MKTVq4TYOOX8",
        "outputId": "e7f8f1c7-84cd-4f22-9bc0-00630a316b9d"
      },
      "execution_count": null,
      "outputs": [
        {
          "output_type": "stream",
          "name": "stdout",
          "text": [
            "Before Alteration:  {'first_name': 'Richard', 'last_name': 'Todd', 'age': 45, 'tattoos': True, 'email': 'richard149@gmail.com'}\n"
          ]
        }
      ]
    },
    {
      "cell_type": "code",
      "source": [
        "del Richard['email']"
      ],
      "metadata": {
        "id": "vJKNEe_IOmEu"
      },
      "execution_count": null,
      "outputs": []
    },
    {
      "cell_type": "code",
      "source": [
        "#After alteration\n",
        "print(\"After Alteration: \", Richard)"
      ],
      "metadata": {
        "colab": {
          "base_uri": "https://localhost:8080/"
        },
        "id": "4nOjVmKROpQ_",
        "outputId": "c2d4915b-813b-4ad0-9d71-bf38039a1bb6"
      },
      "execution_count": null,
      "outputs": [
        {
          "output_type": "stream",
          "name": "stdout",
          "text": [
            "After Alteration:  {'first_name': 'Richard', 'last_name': 'Todd', 'age': 45, 'tattoos': True}\n"
          ]
        }
      ]
    },
    {
      "cell_type": "markdown",
      "source": [
        "Nested dictionary"
      ],
      "metadata": {
        "id": "temZ3JdWOwIZ"
      }
    },
    {
      "cell_type": "code",
      "source": [
        "#Before alteration\n",
        "print(\"Before Alteration: \", sch_rec)"
      ],
      "metadata": {
        "colab": {
          "base_uri": "https://localhost:8080/"
        },
        "id": "aGK8pr84OvaG",
        "outputId": "9b179bca-5870-45df-8227-49fa62122340"
      },
      "execution_count": null,
      "outputs": [
        {
          "output_type": "stream",
          "name": "stdout",
          "text": [
            "Before Alteration:  {'001': {'name': 'Ryan Tan', 'grade': 12, 'avg_score': 95, 'email': 'rand001@gamil.com'}, '002': {'name': 'Jaslyn', 'grade': 12, 'avg_score': 90, 'email': 'rand002@gmail.com'}, '003': {'name': 'Ronald', 'grade': 10, 'avg_score': 55, 'email': 'rand003@gmail.com'}, '004': {'name': 'Chad', 'grade': 9, 'avg_score': 67, 'email': 'rand004@gmail.com'}, '005': {'name': 'Joyce', 'grade': 8, 'avg_score': 82.5, 'email': 'rand005@gmail.com'}, '006': {'name': 'Amanda', 'grade': 11, 'avg_score': 98, 'email': 'rand006@gmail.com'}}\n"
          ]
        }
      ]
    },
    {
      "cell_type": "code",
      "source": [
        "del sch_rec['001']['email']\n",
        "del sch_rec['002']['email'] \n",
        "del sch_rec['003']['email'] \n",
        "del sch_rec['004']['email'] \n",
        "del sch_rec['005']['email'] \n",
        "del sch_rec['006']['email'] "
      ],
      "metadata": {
        "id": "ZOSs2H1POzqr"
      },
      "execution_count": null,
      "outputs": []
    },
    {
      "cell_type": "code",
      "source": [
        "#After alteration\n",
        "print(\"After Alteration: \", sch_rec)"
      ],
      "metadata": {
        "colab": {
          "base_uri": "https://localhost:8080/"
        },
        "id": "s-iTP0d6O3Pr",
        "outputId": "ea3c2b5b-1f72-4086-915f-2d9760233908"
      },
      "execution_count": null,
      "outputs": [
        {
          "output_type": "stream",
          "name": "stdout",
          "text": [
            "After Alteration:  {'001': {'name': 'Ryan Tan', 'grade': 12, 'avg_score': 95}, '002': {'name': 'Jaslyn', 'grade': 12, 'avg_score': 90}, '003': {'name': 'Ronald', 'grade': 10, 'avg_score': 55}, '004': {'name': 'Chad', 'grade': 9, 'avg_score': 67}, '005': {'name': 'Joyce', 'grade': 8, 'avg_score': 82.5}, '006': {'name': 'Amanda', 'grade': 11, 'avg_score': 98}}\n"
          ]
        }
      ]
    },
    {
      "cell_type": "markdown",
      "source": [
        "Deleting all key-value pairs\n",
        "*   Note: Dictionary will be empty\n",
        "\n"
      ],
      "metadata": {
        "id": "F0jkzsWdPCV2"
      }
    },
    {
      "cell_type": "markdown",
      "source": [
        "Regular Dictionary"
      ],
      "metadata": {
        "id": "_lzpD70FPWkS"
      }
    },
    {
      "cell_type": "code",
      "source": [
        "#Dictionary\n",
        "print(Richard)\n",
        "Richard.clear()\n",
        "print(Richard)"
      ],
      "metadata": {
        "colab": {
          "base_uri": "https://localhost:8080/"
        },
        "id": "p5_xb8jePAKr",
        "outputId": "321e7ae0-1afc-41fb-a072-d417a351b869"
      },
      "execution_count": null,
      "outputs": [
        {
          "output_type": "stream",
          "name": "stdout",
          "text": [
            "{'first_name': 'Richard', 'last_name': 'Todd', 'age': 45, 'tattoos': True}\n",
            "{}\n"
          ]
        }
      ]
    },
    {
      "cell_type": "markdown",
      "source": [
        "Nested Dictionary"
      ],
      "metadata": {
        "id": "0x3sb9gNPdM_"
      }
    },
    {
      "cell_type": "code",
      "source": [
        "print(sch_rec)\n",
        "sch_rec['006'].clear()\n",
        "print(sch_rec)"
      ],
      "metadata": {
        "colab": {
          "base_uri": "https://localhost:8080/"
        },
        "id": "0NMTJImWPVPv",
        "outputId": "42d43471-f387-4def-fa06-1f580402a96b"
      },
      "execution_count": null,
      "outputs": [
        {
          "output_type": "stream",
          "name": "stdout",
          "text": [
            "{'001': {'name': 'Ryan Tan', 'grade': 12, 'avg_score': 95}, '002': {'name': 'Jaslyn', 'grade': 12, 'avg_score': 90}, '003': {'name': 'Ronald', 'grade': 10, 'avg_score': 55}, '004': {'name': 'Chad', 'grade': 9, 'avg_score': 67}, '005': {'name': 'Joyce', 'grade': 8, 'avg_score': 82.5}, '006': {'name': 'Amanda', 'grade': 11, 'avg_score': 98}}\n",
            "{'001': {'name': 'Ryan Tan', 'grade': 12, 'avg_score': 95}, '002': {'name': 'Jaslyn', 'grade': 12, 'avg_score': 90}, '003': {'name': 'Ronald', 'grade': 10, 'avg_score': 55}, '004': {'name': 'Chad', 'grade': 9, 'avg_score': 67}, '005': {'name': 'Joyce', 'grade': 8, 'avg_score': 82.5}, '006': {}}\n"
          ]
        }
      ]
    },
    {
      "cell_type": "markdown",
      "source": [
        "## Python Basic syntax\n",
        "1. Conditional Statements"
      ],
      "metadata": {
        "id": "-AeMQhvQPuuT"
      }
    },
    {
      "cell_type": "markdown",
      "source": [
        "Let a be 5 and b be 3. In this context 5 is always more than 3. "
      ],
      "metadata": {
        "id": "j_JY7zpQP49_"
      }
    },
    {
      "cell_type": "markdown",
      "source": [
        "Initialise the variables"
      ],
      "metadata": {
        "id": "Rz86DJx2P-rk"
      }
    },
    {
      "cell_type": "code",
      "source": [
        "a = 5\n",
        "b = 3"
      ],
      "metadata": {
        "id": "yjTt4a_7PkII"
      },
      "execution_count": null,
      "outputs": []
    },
    {
      "cell_type": "markdown",
      "source": [
        "Conditional statement\n"
      ],
      "metadata": {
        "id": "rgcENzEvQDdZ"
      }
    },
    {
      "cell_type": "markdown",
      "source": [
        "Example: Comparing Integers"
      ],
      "metadata": {
        "id": "d-9N4hE5QKmF"
      }
    },
    {
      "cell_type": "code",
      "source": [
        "#If statement\n",
        "if b < a:\n",
        "  print(\"{1} is lesser than {0}\".format(a,b))"
      ],
      "metadata": {
        "colab": {
          "base_uri": "https://localhost:8080/"
        },
        "id": "trxFMy77QCls",
        "outputId": "d3e9cb24-fe45-462f-beb5-ecb396f84fb5"
      },
      "execution_count": null,
      "outputs": [
        {
          "output_type": "stream",
          "name": "stdout",
          "text": [
            "3 is lesser than 5\n"
          ]
        }
      ]
    },
    {
      "cell_type": "code",
      "source": [
        "a = 5\n",
        "b = 3\n",
        "if a < b:\n",
        "  print(\"{1} is not lesser than {0}\".format(a,b))\n",
        "else:\n",
        "  print(\"{1} is lesser than {0}\".format(a,b))"
      ],
      "metadata": {
        "colab": {
          "base_uri": "https://localhost:8080/"
        },
        "id": "-o1bnuZ8QSNF",
        "outputId": "d3bef188-8d33-4c83-aceb-ddc7fe9a892a"
      },
      "execution_count": null,
      "outputs": [
        {
          "output_type": "stream",
          "name": "stdout",
          "text": [
            "3 is lesser than 5\n"
          ]
        }
      ]
    },
    {
      "cell_type": "markdown",
      "source": [
        "Initialise variables a,b,c"
      ],
      "metadata": {
        "id": "_9aa3fF2RI-P"
      }
    },
    {
      "cell_type": "code",
      "source": [
        "a = 5\n",
        "b = 3\n",
        "c = 5"
      ],
      "metadata": {
        "id": "JDPhFM1uQjpe"
      },
      "execution_count": null,
      "outputs": []
    },
    {
      "cell_type": "code",
      "source": [
        "if a < c:\n",
        "  print(\"{1} is lesser than {0}\".format(a,c))\n",
        "elif a > c:\n",
        "  print(\"{1} is not lesser than {0}\".format(a,c))\n",
        "else:\n",
        "  print(\"a and c are equal\")"
      ],
      "metadata": {
        "colab": {
          "base_uri": "https://localhost:8080/"
        },
        "id": "bPPQSoejROrW",
        "outputId": "295d52ce-1e05-4bc2-c393-ef48936bd601"
      },
      "execution_count": null,
      "outputs": [
        {
          "output_type": "stream",
          "name": "stdout",
          "text": [
            "a and c are equal\n"
          ]
        }
      ]
    },
    {
      "cell_type": "markdown",
      "source": [
        "Examples(not gone through today)\n",
        "\n",
        "*   Additional\n",
        "\n"
      ],
      "metadata": {
        "id": "ycDpHmPxR704"
      }
    },
    {
      "cell_type": "markdown",
      "source": [
        "Comparing 2 numbers"
      ],
      "metadata": {
        "id": "p5QgPEnPSLxT"
      }
    },
    {
      "cell_type": "code",
      "source": [
        "#Example: comparing two numbers\n",
        "#Input by user\n",
        "print('Insert the first number : ')\n",
        "#Default input is as string. Alphabetically, it will print 34 is greater than 123 as it is considering the character '3' and '1'\n",
        "a = int(input())\n",
        "print('Insert the second number : ')\n",
        "b = int(input())\n",
        "\n",
        "if(a == b):\n",
        "  #can format string with 'f'\n",
        "  print('{0} is equal to {1}'.format(a,b))\n",
        "elif(a<b):\n",
        "  print('{0} is smaller to {1}'.format(a,b))\n",
        "else:\n",
        "  print('{0} is greater to {1}'.format(a,b))"
      ],
      "metadata": {
        "colab": {
          "base_uri": "https://localhost:8080/"
        },
        "id": "nNJ8FvrQRpPW",
        "outputId": "c5d8ada3-a472-40e9-820c-06732f0536f0"
      },
      "execution_count": null,
      "outputs": [
        {
          "output_type": "stream",
          "name": "stdout",
          "text": [
            "Insert the first number : \n",
            "4\n",
            "Insert the second number : \n",
            "5\n",
            "4 is smaller to 5\n"
          ]
        }
      ]
    },
    {
      "cell_type": "markdown",
      "source": [
        "Example: Age restrictions for movies"
      ],
      "metadata": {
        "id": "AO6fejwcSSzC"
      }
    },
    {
      "cell_type": "code",
      "source": [
        "print('Insert your age:')\n",
        "age = eval(input())\n",
        "\n",
        "if(age < 13):\n",
        "  print(\"PG-13 movies might not be suitable for you\")\n",
        "elif(age >= 13 and age <16):\n",
        "  print(\"You are allowed to only watch PG-13 movies\")\n",
        "elif(age >=16 and age < 18):\n",
        "  print(\"You are allowed to watch PG-13 and NC-16 movies\")\n",
        "elif(age >= 18 and age < 21):\n",
        "  print(\"You are allowed to watch PG-13, NC-16 and M-18 movies\")\n",
        "elif(age >= 21):\n",
        "  print(\"You can watch all movies without age restrictions\")"
      ],
      "metadata": {
        "colab": {
          "base_uri": "https://localhost:8080/"
        },
        "id": "YSzCrb__SKyX",
        "outputId": "78ec9411-8aa5-40f6-94ba-ac22c1e0750d"
      },
      "execution_count": null,
      "outputs": [
        {
          "output_type": "stream",
          "name": "stdout",
          "text": [
            "Insert your age:\n",
            "21\n",
            "You can watch all movies without age restrictions\n"
          ]
        }
      ]
    },
    {
      "cell_type": "markdown",
      "source": [
        "## Loops\n",
        "1. Break statement\n",
        "2. Continue statement\n",
        "3. Pass statement"
      ],
      "metadata": {
        "id": "hDXMuRJUSmLq"
      }
    },
    {
      "cell_type": "markdown",
      "source": [
        "1. Break statement: When external condition is triggered, you can exit the loop"
      ],
      "metadata": {
        "id": "l9LHsDMwSwUp"
      }
    },
    {
      "cell_type": "code",
      "source": [
        "n = 1\n",
        "while n <= 100:\n",
        "  print (n)\n",
        "  n = n+1\n",
        "  if n > 10:\n",
        "    break\n",
        "print(\"The while loop ends here\")"
      ],
      "metadata": {
        "colab": {
          "base_uri": "https://localhost:8080/"
        },
        "id": "CecU6nJASnLB",
        "outputId": "92ae5226-3277-4fa8-e0e0-3e58f2ceb8f2"
      },
      "execution_count": null,
      "outputs": [
        {
          "output_type": "stream",
          "name": "stdout",
          "text": [
            "1\n",
            "2\n",
            "3\n",
            "4\n",
            "5\n",
            "6\n",
            "7\n",
            "8\n",
            "9\n",
            "10\n",
            "The while loop ends here\n"
          ]
        }
      ]
    },
    {
      "cell_type": "markdown",
      "source": [
        "2. Continue Statement: When the external condition is triggered, you can skip over that part of the loop to complete the loop"
      ],
      "metadata": {
        "id": "NyM8rWObTOp_"
      }
    },
    {
      "cell_type": "code",
      "source": [
        "num = 0\n",
        "for num in range(6):\n",
        "  if num == 4:\n",
        "    continue\n",
        "  print(\"Printed number: {0}\".format(num))\n",
        "print(\"Loop ends here\")"
      ],
      "metadata": {
        "colab": {
          "base_uri": "https://localhost:8080/"
        },
        "id": "W8eKhw-8TA7z",
        "outputId": "fe095b04-ca82-4e82-856d-2641c112eabf"
      },
      "execution_count": null,
      "outputs": [
        {
          "output_type": "stream",
          "name": "stdout",
          "text": [
            "Printed number: 0\n",
            "Printed number: 1\n",
            "Printed number: 2\n",
            "Printed number: 3\n",
            "Printed number: 5\n",
            "Loop ends here\n"
          ]
        }
      ]
    },
    {
      "cell_type": "markdown",
      "source": [
        "3. Pass Statement: When the external condition is triggered, you can handle the condition without the loop being impacted in any way"
      ],
      "metadata": {
        "id": "L-29YLG5T7lc"
      }
    },
    {
      "cell_type": "code",
      "source": [
        "num = 0\n",
        "for num in range(6):\n",
        "  if num == 4:\n",
        "    pass\n",
        "  print('Printed number is: {0}'.format(num))\n",
        "print('Out of loop')"
      ],
      "metadata": {
        "colab": {
          "base_uri": "https://localhost:8080/"
        },
        "id": "MuWt4e6ZT5tn",
        "outputId": "96d58e4c-b06a-4ce1-e515-5419d24e9d8a"
      },
      "execution_count": null,
      "outputs": [
        {
          "output_type": "stream",
          "name": "stdout",
          "text": [
            "Printed number is: 0\n",
            "Printed number is: 1\n",
            "Printed number is: 2\n",
            "Printed number is: 3\n",
            "Printed number is: 4\n",
            "Printed number is: 5\n",
            "Out of loop\n"
          ]
        }
      ]
    },
    {
      "cell_type": "markdown",
      "source": [
        "1. The purpose of learning break, pass and continue statements is so that you can handle instances where you need to escape a loop fully when an external condition is triggered or when you want to bypass an action of the loop and begin the next iteration\n",
        "2. Mostly used to improve efficiency of the loop"
      ],
      "metadata": {
        "id": "5x4gB5ZHUm6x"
      }
    },
    {
      "cell_type": "markdown",
      "source": [
        "###Range\n",
        "\n",
        "\n",
        "*   Use range to generate a list of the number\n",
        "\n"
      ],
      "metadata": {
        "id": "adduZiVlVDky"
      }
    },
    {
      "cell_type": "markdown",
      "source": [
        "### Range data type\n",
        "\n",
        "*   In-built python datatype which is mainly used with while loops in python\n",
        "\n"
      ],
      "metadata": {
        "id": "0JBHfjLnVOij"
      }
    },
    {
      "cell_type": "code",
      "source": [
        "# For loop with range\n",
        "for i in range(15):\n",
        "  print(i)"
      ],
      "metadata": {
        "colab": {
          "base_uri": "https://localhost:8080/"
        },
        "id": "EHZCXFYhUfMZ",
        "outputId": "a8dbb6e3-4c1d-4c96-8dd1-a5eb6f75cf49"
      },
      "execution_count": null,
      "outputs": [
        {
          "output_type": "stream",
          "name": "stdout",
          "text": [
            "0\n",
            "1\n",
            "2\n",
            "3\n",
            "4\n",
            "5\n",
            "6\n",
            "7\n",
            "8\n",
            "9\n",
            "10\n",
            "11\n",
            "12\n",
            "13\n",
            "14\n"
          ]
        }
      ]
    },
    {
      "cell_type": "code",
      "source": [
        "listr = list(range(10))\n",
        "print(listr)"
      ],
      "metadata": {
        "colab": {
          "base_uri": "https://localhost:8080/"
        },
        "id": "Af3-02rmVfrw",
        "outputId": "a0a26648-638f-4a43-f311-bbf202e081bc"
      },
      "execution_count": null,
      "outputs": [
        {
          "output_type": "stream",
          "name": "stdout",
          "text": [
            "[0, 1, 2, 3, 4, 5, 6, 7, 8, 9]\n"
          ]
        }
      ]
    },
    {
      "cell_type": "code",
      "source": [
        "#list with step of -1 -> Recap of what was gone through in the tutorial\n",
        "list_s = list(range(5,-5,-1))\n",
        "print(list_s)"
      ],
      "metadata": {
        "colab": {
          "base_uri": "https://localhost:8080/"
        },
        "id": "9ao6qw_yVmpu",
        "outputId": "9fc2a9f7-b76b-4b4e-e2ac-2577abdf254f"
      },
      "execution_count": null,
      "outputs": [
        {
          "output_type": "stream",
          "name": "stdout",
          "text": [
            "[5, 4, 3, 2, 1, 0, -1, -2, -3, -4]\n"
          ]
        }
      ]
    },
    {
      "cell_type": "markdown",
      "source": [
        "For Loop\n",
        "* used for iterating over a sequence that is a list, a tuple, a dictionary, a set or a set of strings"
      ],
      "metadata": {
        "id": "frwPfb1cV7fP"
      }
    },
    {
      "cell_type": "code",
      "source": [
        "for i in range(10):\n",
        "  print(i)"
      ],
      "metadata": {
        "colab": {
          "base_uri": "https://localhost:8080/"
        },
        "id": "VtpnYjclVwkK",
        "outputId": "3e51cd90-1422-4eaf-de83-68a76976e6cc"
      },
      "execution_count": null,
      "outputs": [
        {
          "output_type": "stream",
          "name": "stdout",
          "text": [
            "0\n",
            "1\n",
            "2\n",
            "3\n",
            "4\n",
            "5\n",
            "6\n",
            "7\n",
            "8\n",
            "9\n"
          ]
        }
      ]
    },
    {
      "cell_type": "code",
      "source": [
        "# list with a For Loop\n",
        "list_a = [\"hi\", \"my\", \"name\", \"is\", \"Ryan\", \"Phone no:\", 12345678]\n",
        "for i in range(len(list_a)):\n",
        "  print(list_a[i])"
      ],
      "metadata": {
        "colab": {
          "base_uri": "https://localhost:8080/"
        },
        "id": "JBeLxGMIWMLu",
        "outputId": "5d2f823f-1038-4e5a-9d3e-c5b7be8975a9"
      },
      "execution_count": null,
      "outputs": [
        {
          "output_type": "stream",
          "name": "stdout",
          "text": [
            "hi\n",
            "my\n",
            "name\n",
            "is\n",
            "Ryan\n",
            "Phone no:\n",
            "12345678\n"
          ]
        }
      ]
    },
    {
      "cell_type": "code",
      "source": [
        "# Increasing value of item in the list by 6\n",
        "list_y = [1,2,3,4,5,6,7]\n",
        "for i in range(len(list_y)):\n",
        "  list_y[i] = list_y[i]+6\n",
        "print(list_y)"
      ],
      "metadata": {
        "colab": {
          "base_uri": "https://localhost:8080/"
        },
        "id": "K1z4jiFqW0JW",
        "outputId": "371d7698-1e76-4f7a-d17e-b291124b7542"
      },
      "execution_count": null,
      "outputs": [
        {
          "output_type": "stream",
          "name": "stdout",
          "text": [
            "[7, 8, 9, 10, 11, 12, 13]\n"
          ]
        }
      ]
    },
    {
      "cell_type": "markdown",
      "source": [
        "Functions\n",
        "* A group of related statements that performs a specific task\n",
        "* Helps break down the program into smaller modules rather than a lengthy set of codes which can be unorganised"
      ],
      "metadata": {
        "id": "foFqksb5XhE2"
      }
    },
    {
      "cell_type": "code",
      "source": [
        "# Adding two integers\n",
        "# The variables in the brackets are parameters of the function\n",
        "def addition(num_a, num_b):\n",
        "  total = num_a + num_b\n",
        "  print(total)"
      ],
      "metadata": {
        "id": "JDwXUR82XEqU"
      },
      "execution_count": null,
      "outputs": []
    },
    {
      "cell_type": "code",
      "source": [
        "# Output value returned should be 12\n",
        "addition(7,5)"
      ],
      "metadata": {
        "colab": {
          "base_uri": "https://localhost:8080/"
        },
        "id": "lCJpbT8xX38D",
        "outputId": "83eb275b-fa3c-4b6f-b0be-10cba57ece91"
      },
      "execution_count": null,
      "outputs": [
        {
          "output_type": "stream",
          "name": "stdout",
          "text": [
            "12\n"
          ]
        }
      ]
    },
    {
      "cell_type": "code",
      "source": [
        "addition(6,7) #Should output 13"
      ],
      "metadata": {
        "colab": {
          "base_uri": "https://localhost:8080/"
        },
        "id": "wHkd4fduYBwf",
        "outputId": "f863c336-5c9b-4c99-a01b-0b66c4587f98"
      },
      "execution_count": null,
      "outputs": [
        {
          "output_type": "stream",
          "name": "stdout",
          "text": [
            "13\n"
          ]
        }
      ]
    }
  ]
}