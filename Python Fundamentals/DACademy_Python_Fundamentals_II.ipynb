{
  "nbformat": 4,
  "nbformat_minor": 0,
  "metadata": {
    "colab": {
      "provenance": []
    },
    "kernelspec": {
      "name": "python3",
      "display_name": "Python 3"
    },
    "language_info": {
      "name": "python"
    }
  },
  "cells": [
    {
      "cell_type": "markdown",
      "source": [
        "###Contents for the day\n",
        "1. Sets\n",
        "2. Dictionaries"
      ],
      "metadata": {
        "id": "nRkXMIsmIhKt"
      }
    },
    {
      "cell_type": "markdown",
      "source": [
        "4. Sets\n",
        "\n",
        "\n",
        "*   An abstract data type that can store unique values, without any particular order\n",
        "*   Computer implementation of the mathematical concept of a finite set\n",
        "*   Mutable\n",
        "*   Does not allow duplicates\n",
        "\n"
      ],
      "metadata": {
        "id": "P4Ex9vGBIyre"
      }
    },
    {
      "cell_type": "code",
      "source": [
        "x = {\"pandas\", \"lions\", \"penguins\", \"flamingos\"}\n",
        "print(x)"
      ],
      "metadata": {
        "colab": {
          "base_uri": "https://localhost:8080/"
        },
        "id": "YmclWVKXIp1d",
        "outputId": "f0f5cba3-1c5a-427b-bf7f-309f4f959e97"
      },
      "execution_count": null,
      "outputs": [
        {
          "output_type": "stream",
          "name": "stdout",
          "text": [
            "{'penguins', 'lions', 'flamingos', 'pandas'}\n"
          ]
        }
      ]
    },
    {
      "cell_type": "markdown",
      "source": [
        "Add"
      ],
      "metadata": {
        "id": "5PJVW5eHJXzt"
      }
    },
    {
      "cell_type": "code",
      "source": [
        "#Adding elements into the set using the add function\n",
        "#willl be added in alphabetical order\n",
        "x.add(\"rhinos\")\n",
        "print(x)"
      ],
      "metadata": {
        "colab": {
          "base_uri": "https://localhost:8080/"
        },
        "id": "eMSw5VhPJWim",
        "outputId": "1eb4ebbd-19eb-41b5-f8b7-a38731df8865"
      },
      "execution_count": null,
      "outputs": [
        {
          "output_type": "stream",
          "name": "stdout",
          "text": [
            "{'pandas', 'penguins', 'rhinos', 'lions', 'flamingos'}\n"
          ]
        }
      ]
    },
    {
      "cell_type": "markdown",
      "source": [
        "Remove"
      ],
      "metadata": {
        "id": "1PTVEhQ0JkET"
      }
    },
    {
      "cell_type": "code",
      "source": [
        "# Removing element into the set using the remove function\n",
        "#Removing the element: penguins\n",
        "x.remove(\"penguins\")\n",
        "print(x)"
      ],
      "metadata": {
        "colab": {
          "base_uri": "https://localhost:8080/"
        },
        "id": "1dhH8jY-JjVz",
        "outputId": "881a6c13-38ce-445f-e6cb-dad79096af78"
      },
      "execution_count": null,
      "outputs": [
        {
          "output_type": "stream",
          "name": "stdout",
          "text": [
            "{'pandas', 'rhinos', 'lions', 'flamingos'}\n"
          ]
        }
      ]
    },
    {
      "cell_type": "code",
      "source": [
        "# Predefining the size of the set(Get back to you guys)\n",
        "y=[\" \"] * 12\n",
        "print(y)"
      ],
      "metadata": {
        "colab": {
          "base_uri": "https://localhost:8080/"
        },
        "id": "REjAcjwTJ1gw",
        "outputId": "c5fd4c24-a827-4495-8007-65534ea96328"
      },
      "execution_count": null,
      "outputs": [
        {
          "output_type": "stream",
          "name": "stdout",
          "text": [
            "[' ', ' ', ' ', ' ', ' ', ' ', ' ', ' ', ' ', ' ', ' ', ' ']\n"
          ]
        }
      ]
    },
    {
      "cell_type": "code",
      "source": [
        "# Different data types within a set(Get back to you guys)\n",
        "z = {(1,2,3), \"Hello\", 2.0}\n",
        "print(z)"
      ],
      "metadata": {
        "colab": {
          "base_uri": "https://localhost:8080/"
        },
        "id": "jBsVYlnvJuDG",
        "outputId": "1e6a076a-71ff-4fed-decc-fe8ffe387e8a"
      },
      "execution_count": null,
      "outputs": [
        {
          "output_type": "stream",
          "name": "stdout",
          "text": [
            "{2.0, 'Hello', (1, 2, 3)}\n"
          ]
        }
      ]
    },
    {
      "cell_type": "code",
      "source": [
        "# Making a set from a list\n",
        "r = [1,2,3,4,6,5,4]\n",
        "# List form\n",
        "print(r)\n",
        "# Conversion from list to set\n",
        "r_set = set(r)\n",
        "print(r_set)\n",
        "# Check the data type of r_set\n",
        "type(r_set)"
      ],
      "metadata": {
        "colab": {
          "base_uri": "https://localhost:8080/"
        },
        "id": "r56TId8eKVwU",
        "outputId": "2245aefc-d74b-4f02-c35c-c86004c55adb"
      },
      "execution_count": null,
      "outputs": [
        {
          "output_type": "stream",
          "name": "stdout",
          "text": [
            "[1, 2, 3, 4, 6, 5, 4]\n",
            "{1, 2, 3, 4, 5, 6}\n"
          ]
        },
        {
          "output_type": "execute_result",
          "data": {
            "text/plain": [
              "set"
            ]
          },
          "metadata": {},
          "execution_count": 8
        }
      ]
    },
    {
      "cell_type": "markdown",
      "source": [
        "\n",
        "\n",
        "*   Set cannot have mutable items\n",
        "*   For example: List\n",
        "*   Sets = {1,2,[3,4]}\n",
        "\n"
      ],
      "metadata": {
        "id": "UaIs7OIsKyYd"
      }
    },
    {
      "cell_type": "markdown",
      "source": [
        "5. Dictionary\n",
        "\n",
        "*   used to store data values in key:value pairs\n",
        "*   collection which is ordered, changeable, does not allow duplicates\n",
        "\n"
      ],
      "metadata": {
        "id": "HcC2Bf0rLlY0"
      }
    },
    {
      "cell_type": "markdown",
      "source": [
        "Real Life Examples:\n",
        "1. Storing Submitted Personal Data(name, age, date of birth etc.) "
      ],
      "metadata": {
        "id": "Gjui1yazNT41"
      }
    },
    {
      "cell_type": "code",
      "source": [
        "# Empty Dictionary\n",
        "dict_a = {}\n",
        "print(dict_a)"
      ],
      "metadata": {
        "colab": {
          "base_uri": "https://localhost:8080/"
        },
        "id": "wgoTkP1JKwyw",
        "outputId": "8d78c0df-b54f-4345-b20c-675edf8553f7"
      },
      "execution_count": null,
      "outputs": [
        {
          "output_type": "stream",
          "name": "stdout",
          "text": [
            "{}\n"
          ]
        }
      ]
    },
    {
      "cell_type": "code",
      "source": [
        "# Personal Particulars\n",
        "Richard = {\n",
        "    \"first_name\": \"Richard\",\n",
        "    \"last_name\": \"Anderson\",\n",
        "    \"age\": 45,\n",
        "    \"tattoos\": True\n",
        "}\n",
        "print(Richard)"
      ],
      "metadata": {
        "colab": {
          "base_uri": "https://localhost:8080/"
        },
        "id": "3zNojcZTNRMl",
        "outputId": "34aa4062-3e15-401c-b174-84615fe34195"
      },
      "execution_count": null,
      "outputs": [
        {
          "output_type": "stream",
          "name": "stdout",
          "text": [
            "{'first_name': 'Richard', 'last_name': 'Anderson', 'age': 45, 'tattoos': True}\n"
          ]
        }
      ]
    },
    {
      "cell_type": "code",
      "source": [
        "# Information about school records\n",
        "# Nested Dictionary\n",
        "sch_rec = {\n",
        "    \"name\": \"Ryan\",\n",
        "    \"grade\": 12,\n",
        "    \"score\": {\n",
        "        \"english\": 87,\n",
        "        \"math\": 90,\n",
        "        \"science\": 95,\n",
        "        \"mother-tongue\": 55\n",
        "    }\n",
        "}\n",
        "print(sch_rec)"
      ],
      "metadata": {
        "colab": {
          "base_uri": "https://localhost:8080/"
        },
        "id": "6Sl5ZbHRNzSc",
        "outputId": "c1872a4e-0284-40c3-a3f8-4d6f54e4d67c"
      },
      "execution_count": null,
      "outputs": [
        {
          "output_type": "stream",
          "name": "stdout",
          "text": [
            "{'name': 'Ryan', 'grade': 12, 'score': {'english': 87, 'math': 90, 'science': 95, 'mother-tongue': 55}}\n"
          ]
        }
      ]
    },
    {
      "cell_type": "code",
      "source": [
        "# Printing out the scores using the key\n",
        "# Key: \"Score\"\n",
        "sch_rec[\"score\"]"
      ],
      "metadata": {
        "colab": {
          "base_uri": "https://localhost:8080/"
        },
        "id": "D9jrgCvtOQRj",
        "outputId": "79a1241a-6322-4b74-897b-bf59eb1c67a2"
      },
      "execution_count": null,
      "outputs": [
        {
          "output_type": "execute_result",
          "data": {
            "text/plain": [
              "{'english': 87, 'math': 90, 'science': 95, 'mother-tongue': 55}"
            ]
          },
          "metadata": {},
          "execution_count": 13
        }
      ]
    },
    {
      "cell_type": "markdown",
      "source": [
        "Function to find the number of key-value pairs"
      ],
      "metadata": {
        "id": "EsPX1bmTOpuk"
      }
    },
    {
      "cell_type": "code",
      "source": [
        "# Len function\n",
        "print(len(Richard))"
      ],
      "metadata": {
        "colab": {
          "base_uri": "https://localhost:8080/"
        },
        "id": "ED9dp1QSOXwT",
        "outputId": "3ebb3120-eaf1-4318-9d81-23d73e67e0d0"
      },
      "execution_count": null,
      "outputs": [
        {
          "output_type": "stream",
          "name": "stdout",
          "text": [
            "4\n"
          ]
        }
      ]
    },
    {
      "cell_type": "code",
      "source": [
        "# Key-value pairs in the school record: sch_rec\n",
        "print(len(sch_rec))"
      ],
      "metadata": {
        "colab": {
          "base_uri": "https://localhost:8080/"
        },
        "id": "g9Qh2bRpPTpc",
        "outputId": "54ce1da4-2e35-4c21-edb1-4a7a3cc0554c"
      },
      "execution_count": null,
      "outputs": [
        {
          "output_type": "stream",
          "name": "stdout",
          "text": [
            "3\n"
          ]
        }
      ]
    },
    {
      "cell_type": "code",
      "source": [
        "# Key-value pairs in the score dictionary within the school record\n",
        "print(len(sch_rec[\"score\"]))"
      ],
      "metadata": {
        "colab": {
          "base_uri": "https://localhost:8080/"
        },
        "id": "9r4hdf5fP2b7",
        "outputId": "9450565b-cb96-4d65-ce68-730f57739acb"
      },
      "execution_count": null,
      "outputs": [
        {
          "output_type": "stream",
          "name": "stdout",
          "text": [
            "4\n"
          ]
        }
      ]
    },
    {
      "cell_type": "markdown",
      "source": [
        "Values accessed using the corresponding keys"
      ],
      "metadata": {
        "id": "rWoSOC04QKdU"
      }
    },
    {
      "cell_type": "code",
      "source": [
        "print(\"{0:10}{1:10}\".format(\"Name\", \"Grade\"))\n",
        "print(\"{0:10}{1:<10}\".format(sch_rec[\"name\"], sch_rec[\"grade\"]))\n",
        "print(\"Scores: \")\n",
        "print(\"{0:15} {1:<10}\".format(\"English\", sch_rec[\"score\"][\"english\"]))\n",
        "print(\"{0:15} {1:<10}\".format(\"Math\", sch_rec[\"score\"][\"math\"]))\n",
        "print(\"{0:15} {1:<10}\".format(\"Science\", sch_rec[\"score\"][\"science\"]))\n",
        "print(\"{0:15} {1:<10}\".format(\"Mother-tongue\", sch_rec[\"score\"][\"mother-tongue\"]))"
      ],
      "metadata": {
        "colab": {
          "base_uri": "https://localhost:8080/"
        },
        "id": "BtaxZdkvP8Ub",
        "outputId": "ca0ef7e8-4d03-4d33-bbf8-17cf9426cb32"
      },
      "execution_count": null,
      "outputs": [
        {
          "output_type": "stream",
          "name": "stdout",
          "text": [
            "Name      Grade     \n",
            "Ryan      12        \n",
            "Scores: \n",
            "English         87        \n",
            "Math            90        \n",
            "Science         95        \n",
            "Mother-tongue   55        \n"
          ]
        }
      ]
    },
    {
      "cell_type": "markdown",
      "source": [
        "Accessing the values using the get function"
      ],
      "metadata": {
        "id": "IBYBrl0cRTtk"
      }
    },
    {
      "cell_type": "code",
      "source": [
        "first_name = Richard.get(\"first_name\")\n",
        "last_name = Richard.get(\"last_name\")\n",
        "age = Richard.get(\"age\")\n",
        "tattoos = Richard.get(\"tattoos\")\n",
        "print(\"First Name: \", first_name, \"\\nLast Name: \", last_name, \"\\nAge: \", age, \"\\nAny Tattoos: \", tattoos)"
      ],
      "metadata": {
        "colab": {
          "base_uri": "https://localhost:8080/"
        },
        "id": "Hxzb51CaROju",
        "outputId": "cc3f05e3-48a9-4cca-9a87-e2faab58f7dc"
      },
      "execution_count": null,
      "outputs": [
        {
          "output_type": "stream",
          "name": "stdout",
          "text": [
            "First Name:  Richard \n",
            "Last Name:  Anderson \n",
            "Age:  45 \n",
            "Any Tattoos:  True\n"
          ]
        }
      ]
    },
    {
      "cell_type": "markdown",
      "source": [
        "Value not found in the dictionary"
      ],
      "metadata": {
        "id": "Fo0qRwJZT-UM"
      }
    },
    {
      "cell_type": "code",
      "source": [
        "email = Richard.get(\"email\")\n",
        "# Is None -> To check when the value is None\n",
        "if(email is None):\n",
        "  print(\"User have no email\")\n",
        "else:\n",
        "  print(\"Email Address is: \", email)"
      ],
      "metadata": {
        "colab": {
          "base_uri": "https://localhost:8080/"
        },
        "id": "kDAp00kFT67e",
        "outputId": "93d1d8ff-690d-4c58-cc0a-10cbf3ba004a"
      },
      "execution_count": null,
      "outputs": [
        {
          "output_type": "stream",
          "name": "stdout",
          "text": [
            "User have no email\n"
          ]
        }
      ]
    }
  ]
}