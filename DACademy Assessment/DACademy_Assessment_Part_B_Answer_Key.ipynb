{
  "cells": [
    {
      "cell_type": "markdown",
      "metadata": {
        "id": "ZxVBHva9v9ba"
      },
      "source": [
        "#DACademy Assessment Part B\n",
        "<p>This assessment is in two parts: Part A and Part B. You should answer\n",
        "ALL of question 1-15 in Part A and a coding assignment in Part B.</p> \n",
        "<p>Part A carries 30 marks, and the coding assignment, <b>Part B carries 70 marks.</b> You are permitted to look through any of the resources.</p> <p>All the best.</p>"
      ]
    },
    {
      "cell_type": "markdown",
      "metadata": {
        "id": "APQiJ5s9yqEU"
      },
      "source": [
        "<p> The dataset we will be working on today will be Tweets Sentiment Analysis on Omicron.</p>\n",
        "<p>Please download the csv file called 'omicron.csv' from the assessment page before starting this assessment.</p>\n",
        "<p>In this assessment, you will be asked to fill in the blanks in the cells wherever the codes are missing</p>"
      ]
    },
    {
      "cell_type": "markdown",
      "metadata": {
        "id": "uBjghRoh4Zsz"
      },
      "source": [
        "##Mount"
      ]
    },
    {
      "cell_type": "code",
      "execution_count": null,
      "metadata": {
        "colab": {
          "base_uri": "https://localhost:8080/"
        },
        "id": "QW5jTyHCv5NN",
        "outputId": "9cb16727-3e79-4a7d-a979-5a350e1137ec"
      },
      "outputs": [
        {
          "output_type": "stream",
          "name": "stdout",
          "text": [
            "Mounted at /content/drive\n"
          ]
        }
      ],
      "source": [
        "from google.colab import drive\n",
        "drive.mount('/content/drive', force_remount=True)"
      ]
    },
    {
      "cell_type": "markdown",
      "metadata": {
        "id": "U7hmcTwe4x1i"
      },
      "source": [
        "##Import Libraries"
      ]
    },
    {
      "cell_type": "code",
      "execution_count": null,
      "metadata": {
        "colab": {
          "base_uri": "https://localhost:8080/"
        },
        "id": "P4AmY62D4j0E",
        "outputId": "a8e2bba0-3684-43fd-ea8e-243078cc4778"
      },
      "outputs": [
        {
          "output_type": "stream",
          "name": "stdout",
          "text": [
            "Looking in indexes: https://pypi.org/simple, https://us-python.pkg.dev/colab-wheels/public/simple/\n",
            "Requirement already satisfied: pycountry in /usr/local/lib/python3.8/dist-packages (22.3.5)\n",
            "Requirement already satisfied: setuptools in /usr/local/lib/python3.8/dist-packages (from pycountry) (57.4.0)\n"
          ]
        },
        {
          "output_type": "stream",
          "name": "stderr",
          "text": [
            "[nltk_data] Downloading collection 'all'\n",
            "[nltk_data]    | \n",
            "[nltk_data]    | Downloading package abc to /root/nltk_data...\n",
            "[nltk_data]    |   Package abc is already up-to-date!\n",
            "[nltk_data]    | Downloading package alpino to /root/nltk_data...\n",
            "[nltk_data]    |   Package alpino is already up-to-date!\n",
            "[nltk_data]    | Downloading package averaged_perceptron_tagger to\n",
            "[nltk_data]    |     /root/nltk_data...\n",
            "[nltk_data]    |   Package averaged_perceptron_tagger is already up-\n",
            "[nltk_data]    |       to-date!\n",
            "[nltk_data]    | Downloading package averaged_perceptron_tagger_ru to\n",
            "[nltk_data]    |     /root/nltk_data...\n",
            "[nltk_data]    |   Package averaged_perceptron_tagger_ru is already\n",
            "[nltk_data]    |       up-to-date!\n",
            "[nltk_data]    | Downloading package basque_grammars to\n",
            "[nltk_data]    |     /root/nltk_data...\n",
            "[nltk_data]    |   Package basque_grammars is already up-to-date!\n",
            "[nltk_data]    | Downloading package biocreative_ppi to\n",
            "[nltk_data]    |     /root/nltk_data...\n",
            "[nltk_data]    |   Package biocreative_ppi is already up-to-date!\n",
            "[nltk_data]    | Downloading package bllip_wsj_no_aux to\n",
            "[nltk_data]    |     /root/nltk_data...\n",
            "[nltk_data]    |   Package bllip_wsj_no_aux is already up-to-date!\n",
            "[nltk_data]    | Downloading package book_grammars to\n",
            "[nltk_data]    |     /root/nltk_data...\n",
            "[nltk_data]    |   Package book_grammars is already up-to-date!\n",
            "[nltk_data]    | Downloading package brown to /root/nltk_data...\n",
            "[nltk_data]    |   Package brown is already up-to-date!\n",
            "[nltk_data]    | Downloading package brown_tei to /root/nltk_data...\n",
            "[nltk_data]    |   Package brown_tei is already up-to-date!\n",
            "[nltk_data]    | Downloading package cess_cat to /root/nltk_data...\n",
            "[nltk_data]    |   Package cess_cat is already up-to-date!\n",
            "[nltk_data]    | Downloading package cess_esp to /root/nltk_data...\n",
            "[nltk_data]    |   Package cess_esp is already up-to-date!\n",
            "[nltk_data]    | Downloading package chat80 to /root/nltk_data...\n",
            "[nltk_data]    |   Package chat80 is already up-to-date!\n",
            "[nltk_data]    | Downloading package city_database to\n",
            "[nltk_data]    |     /root/nltk_data...\n",
            "[nltk_data]    |   Package city_database is already up-to-date!\n",
            "[nltk_data]    | Downloading package cmudict to /root/nltk_data...\n",
            "[nltk_data]    |   Package cmudict is already up-to-date!\n",
            "[nltk_data]    | Downloading package comparative_sentences to\n",
            "[nltk_data]    |     /root/nltk_data...\n",
            "[nltk_data]    |   Package comparative_sentences is already up-to-\n",
            "[nltk_data]    |       date!\n",
            "[nltk_data]    | Downloading package comtrans to /root/nltk_data...\n",
            "[nltk_data]    |   Package comtrans is already up-to-date!\n",
            "[nltk_data]    | Downloading package conll2000 to /root/nltk_data...\n",
            "[nltk_data]    |   Package conll2000 is already up-to-date!\n",
            "[nltk_data]    | Downloading package conll2002 to /root/nltk_data...\n",
            "[nltk_data]    |   Package conll2002 is already up-to-date!\n",
            "[nltk_data]    | Downloading package conll2007 to /root/nltk_data...\n",
            "[nltk_data]    |   Package conll2007 is already up-to-date!\n",
            "[nltk_data]    | Downloading package crubadan to /root/nltk_data...\n",
            "[nltk_data]    |   Package crubadan is already up-to-date!\n",
            "[nltk_data]    | Downloading package dependency_treebank to\n",
            "[nltk_data]    |     /root/nltk_data...\n",
            "[nltk_data]    |   Package dependency_treebank is already up-to-date!\n",
            "[nltk_data]    | Downloading package dolch to /root/nltk_data...\n",
            "[nltk_data]    |   Package dolch is already up-to-date!\n",
            "[nltk_data]    | Downloading package europarl_raw to\n",
            "[nltk_data]    |     /root/nltk_data...\n",
            "[nltk_data]    |   Package europarl_raw is already up-to-date!\n",
            "[nltk_data]    | Downloading package extended_omw to\n",
            "[nltk_data]    |     /root/nltk_data...\n",
            "[nltk_data]    |   Package extended_omw is already up-to-date!\n",
            "[nltk_data]    | Downloading package floresta to /root/nltk_data...\n",
            "[nltk_data]    |   Package floresta is already up-to-date!\n",
            "[nltk_data]    | Downloading package framenet_v15 to\n",
            "[nltk_data]    |     /root/nltk_data...\n",
            "[nltk_data]    |   Package framenet_v15 is already up-to-date!\n",
            "[nltk_data]    | Downloading package framenet_v17 to\n",
            "[nltk_data]    |     /root/nltk_data...\n",
            "[nltk_data]    |   Package framenet_v17 is already up-to-date!\n",
            "[nltk_data]    | Downloading package gazetteers to /root/nltk_data...\n",
            "[nltk_data]    |   Package gazetteers is already up-to-date!\n",
            "[nltk_data]    | Downloading package genesis to /root/nltk_data...\n",
            "[nltk_data]    |   Package genesis is already up-to-date!\n",
            "[nltk_data]    | Downloading package gutenberg to /root/nltk_data...\n",
            "[nltk_data]    |   Package gutenberg is already up-to-date!\n",
            "[nltk_data]    | Downloading package ieer to /root/nltk_data...\n",
            "[nltk_data]    |   Package ieer is already up-to-date!\n",
            "[nltk_data]    | Downloading package inaugural to /root/nltk_data...\n",
            "[nltk_data]    |   Package inaugural is already up-to-date!\n",
            "[nltk_data]    | Downloading package indian to /root/nltk_data...\n",
            "[nltk_data]    |   Package indian is already up-to-date!\n",
            "[nltk_data]    | Downloading package jeita to /root/nltk_data...\n",
            "[nltk_data]    |   Package jeita is already up-to-date!\n",
            "[nltk_data]    | Downloading package kimmo to /root/nltk_data...\n",
            "[nltk_data]    |   Package kimmo is already up-to-date!\n",
            "[nltk_data]    | Downloading package knbc to /root/nltk_data...\n",
            "[nltk_data]    |   Package knbc is already up-to-date!\n",
            "[nltk_data]    | Downloading package large_grammars to\n",
            "[nltk_data]    |     /root/nltk_data...\n",
            "[nltk_data]    |   Package large_grammars is already up-to-date!\n",
            "[nltk_data]    | Downloading package lin_thesaurus to\n",
            "[nltk_data]    |     /root/nltk_data...\n",
            "[nltk_data]    |   Package lin_thesaurus is already up-to-date!\n",
            "[nltk_data]    | Downloading package mac_morpho to /root/nltk_data...\n",
            "[nltk_data]    |   Package mac_morpho is already up-to-date!\n",
            "[nltk_data]    | Downloading package machado to /root/nltk_data...\n",
            "[nltk_data]    |   Package machado is already up-to-date!\n",
            "[nltk_data]    | Downloading package masc_tagged to /root/nltk_data...\n",
            "[nltk_data]    |   Package masc_tagged is already up-to-date!\n",
            "[nltk_data]    | Downloading package maxent_ne_chunker to\n",
            "[nltk_data]    |     /root/nltk_data...\n",
            "[nltk_data]    |   Package maxent_ne_chunker is already up-to-date!\n",
            "[nltk_data]    | Downloading package maxent_treebank_pos_tagger to\n",
            "[nltk_data]    |     /root/nltk_data...\n",
            "[nltk_data]    |   Package maxent_treebank_pos_tagger is already up-\n",
            "[nltk_data]    |       to-date!\n",
            "[nltk_data]    | Downloading package moses_sample to\n",
            "[nltk_data]    |     /root/nltk_data...\n",
            "[nltk_data]    |   Package moses_sample is already up-to-date!\n",
            "[nltk_data]    | Downloading package movie_reviews to\n",
            "[nltk_data]    |     /root/nltk_data...\n",
            "[nltk_data]    |   Package movie_reviews is already up-to-date!\n",
            "[nltk_data]    | Downloading package mte_teip5 to /root/nltk_data...\n",
            "[nltk_data]    |   Package mte_teip5 is already up-to-date!\n",
            "[nltk_data]    | Downloading package mwa_ppdb to /root/nltk_data...\n",
            "[nltk_data]    |   Package mwa_ppdb is already up-to-date!\n",
            "[nltk_data]    | Downloading package names to /root/nltk_data...\n",
            "[nltk_data]    |   Package names is already up-to-date!\n",
            "[nltk_data]    | Downloading package nombank.1.0 to /root/nltk_data...\n",
            "[nltk_data]    |   Package nombank.1.0 is already up-to-date!\n",
            "[nltk_data]    | Downloading package nonbreaking_prefixes to\n",
            "[nltk_data]    |     /root/nltk_data...\n",
            "[nltk_data]    |   Package nonbreaking_prefixes is already up-to-date!\n",
            "[nltk_data]    | Downloading package nps_chat to /root/nltk_data...\n",
            "[nltk_data]    |   Package nps_chat is already up-to-date!\n",
            "[nltk_data]    | Downloading package omw to /root/nltk_data...\n",
            "[nltk_data]    |   Package omw is already up-to-date!\n",
            "[nltk_data]    | Downloading package omw-1.4 to /root/nltk_data...\n",
            "[nltk_data]    |   Package omw-1.4 is already up-to-date!\n",
            "[nltk_data]    | Downloading package opinion_lexicon to\n",
            "[nltk_data]    |     /root/nltk_data...\n",
            "[nltk_data]    |   Package opinion_lexicon is already up-to-date!\n",
            "[nltk_data]    | Downloading package panlex_swadesh to\n",
            "[nltk_data]    |     /root/nltk_data...\n",
            "[nltk_data]    |   Package panlex_swadesh is already up-to-date!\n",
            "[nltk_data]    | Downloading package paradigms to /root/nltk_data...\n",
            "[nltk_data]    |   Package paradigms is already up-to-date!\n",
            "[nltk_data]    | Downloading package pe08 to /root/nltk_data...\n",
            "[nltk_data]    |   Package pe08 is already up-to-date!\n",
            "[nltk_data]    | Downloading package perluniprops to\n",
            "[nltk_data]    |     /root/nltk_data...\n",
            "[nltk_data]    |   Package perluniprops is already up-to-date!\n",
            "[nltk_data]    | Downloading package pil to /root/nltk_data...\n",
            "[nltk_data]    |   Package pil is already up-to-date!\n",
            "[nltk_data]    | Downloading package pl196x to /root/nltk_data...\n",
            "[nltk_data]    |   Package pl196x is already up-to-date!\n",
            "[nltk_data]    | Downloading package porter_test to /root/nltk_data...\n",
            "[nltk_data]    |   Package porter_test is already up-to-date!\n",
            "[nltk_data]    | Downloading package ppattach to /root/nltk_data...\n",
            "[nltk_data]    |   Package ppattach is already up-to-date!\n",
            "[nltk_data]    | Downloading package problem_reports to\n",
            "[nltk_data]    |     /root/nltk_data...\n",
            "[nltk_data]    |   Package problem_reports is already up-to-date!\n",
            "[nltk_data]    | Downloading package product_reviews_1 to\n",
            "[nltk_data]    |     /root/nltk_data...\n",
            "[nltk_data]    |   Package product_reviews_1 is already up-to-date!\n",
            "[nltk_data]    | Downloading package product_reviews_2 to\n",
            "[nltk_data]    |     /root/nltk_data...\n",
            "[nltk_data]    |   Package product_reviews_2 is already up-to-date!\n",
            "[nltk_data]    | Downloading package propbank to /root/nltk_data...\n",
            "[nltk_data]    |   Package propbank is already up-to-date!\n",
            "[nltk_data]    | Downloading package pros_cons to /root/nltk_data...\n",
            "[nltk_data]    |   Package pros_cons is already up-to-date!\n",
            "[nltk_data]    | Downloading package ptb to /root/nltk_data...\n",
            "[nltk_data]    |   Package ptb is already up-to-date!\n",
            "[nltk_data]    | Downloading package punkt to /root/nltk_data...\n",
            "[nltk_data]    |   Package punkt is already up-to-date!\n",
            "[nltk_data]    | Downloading package qc to /root/nltk_data...\n",
            "[nltk_data]    |   Package qc is already up-to-date!\n",
            "[nltk_data]    | Downloading package reuters to /root/nltk_data...\n",
            "[nltk_data]    |   Package reuters is already up-to-date!\n",
            "[nltk_data]    | Downloading package rslp to /root/nltk_data...\n",
            "[nltk_data]    |   Package rslp is already up-to-date!\n",
            "[nltk_data]    | Downloading package rte to /root/nltk_data...\n",
            "[nltk_data]    |   Package rte is already up-to-date!\n",
            "[nltk_data]    | Downloading package sample_grammars to\n",
            "[nltk_data]    |     /root/nltk_data...\n",
            "[nltk_data]    |   Package sample_grammars is already up-to-date!\n",
            "[nltk_data]    | Downloading package semcor to /root/nltk_data...\n",
            "[nltk_data]    |   Package semcor is already up-to-date!\n",
            "[nltk_data]    | Downloading package senseval to /root/nltk_data...\n",
            "[nltk_data]    |   Package senseval is already up-to-date!\n",
            "[nltk_data]    | Downloading package sentence_polarity to\n",
            "[nltk_data]    |     /root/nltk_data...\n",
            "[nltk_data]    |   Package sentence_polarity is already up-to-date!\n",
            "[nltk_data]    | Downloading package sentiwordnet to\n",
            "[nltk_data]    |     /root/nltk_data...\n",
            "[nltk_data]    |   Package sentiwordnet is already up-to-date!\n",
            "[nltk_data]    | Downloading package shakespeare to /root/nltk_data...\n",
            "[nltk_data]    |   Package shakespeare is already up-to-date!\n",
            "[nltk_data]    | Downloading package sinica_treebank to\n",
            "[nltk_data]    |     /root/nltk_data...\n",
            "[nltk_data]    |   Package sinica_treebank is already up-to-date!\n",
            "[nltk_data]    | Downloading package smultron to /root/nltk_data...\n",
            "[nltk_data]    |   Package smultron is already up-to-date!\n",
            "[nltk_data]    | Downloading package snowball_data to\n",
            "[nltk_data]    |     /root/nltk_data...\n",
            "[nltk_data]    |   Package snowball_data is already up-to-date!\n",
            "[nltk_data]    | Downloading package spanish_grammars to\n",
            "[nltk_data]    |     /root/nltk_data...\n",
            "[nltk_data]    |   Package spanish_grammars is already up-to-date!\n",
            "[nltk_data]    | Downloading package state_union to /root/nltk_data...\n",
            "[nltk_data]    |   Package state_union is already up-to-date!\n",
            "[nltk_data]    | Downloading package stopwords to /root/nltk_data...\n",
            "[nltk_data]    |   Package stopwords is already up-to-date!\n",
            "[nltk_data]    | Downloading package subjectivity to\n",
            "[nltk_data]    |     /root/nltk_data...\n",
            "[nltk_data]    |   Package subjectivity is already up-to-date!\n",
            "[nltk_data]    | Downloading package swadesh to /root/nltk_data...\n",
            "[nltk_data]    |   Package swadesh is already up-to-date!\n",
            "[nltk_data]    | Downloading package switchboard to /root/nltk_data...\n",
            "[nltk_data]    |   Package switchboard is already up-to-date!\n",
            "[nltk_data]    | Downloading package tagsets to /root/nltk_data...\n",
            "[nltk_data]    |   Package tagsets is already up-to-date!\n",
            "[nltk_data]    | Downloading package timit to /root/nltk_data...\n",
            "[nltk_data]    |   Package timit is already up-to-date!\n",
            "[nltk_data]    | Downloading package toolbox to /root/nltk_data...\n",
            "[nltk_data]    |   Package toolbox is already up-to-date!\n",
            "[nltk_data]    | Downloading package treebank to /root/nltk_data...\n",
            "[nltk_data]    |   Package treebank is already up-to-date!\n",
            "[nltk_data]    | Downloading package twitter_samples to\n",
            "[nltk_data]    |     /root/nltk_data...\n",
            "[nltk_data]    |   Package twitter_samples is already up-to-date!\n",
            "[nltk_data]    | Downloading package udhr to /root/nltk_data...\n",
            "[nltk_data]    |   Package udhr is already up-to-date!\n",
            "[nltk_data]    | Downloading package udhr2 to /root/nltk_data...\n",
            "[nltk_data]    |   Package udhr2 is already up-to-date!\n",
            "[nltk_data]    | Downloading package unicode_samples to\n",
            "[nltk_data]    |     /root/nltk_data...\n",
            "[nltk_data]    |   Package unicode_samples is already up-to-date!\n",
            "[nltk_data]    | Downloading package universal_tagset to\n",
            "[nltk_data]    |     /root/nltk_data...\n",
            "[nltk_data]    |   Package universal_tagset is already up-to-date!\n",
            "[nltk_data]    | Downloading package universal_treebanks_v20 to\n",
            "[nltk_data]    |     /root/nltk_data...\n",
            "[nltk_data]    |   Package universal_treebanks_v20 is already up-to-\n",
            "[nltk_data]    |       date!\n",
            "[nltk_data]    | Downloading package vader_lexicon to\n",
            "[nltk_data]    |     /root/nltk_data...\n",
            "[nltk_data]    |   Package vader_lexicon is already up-to-date!\n",
            "[nltk_data]    | Downloading package verbnet to /root/nltk_data...\n",
            "[nltk_data]    |   Package verbnet is already up-to-date!\n",
            "[nltk_data]    | Downloading package verbnet3 to /root/nltk_data...\n",
            "[nltk_data]    |   Package verbnet3 is already up-to-date!\n",
            "[nltk_data]    | Downloading package webtext to /root/nltk_data...\n",
            "[nltk_data]    |   Package webtext is already up-to-date!\n",
            "[nltk_data]    | Downloading package wmt15_eval to /root/nltk_data...\n",
            "[nltk_data]    |   Package wmt15_eval is already up-to-date!\n",
            "[nltk_data]    | Downloading package word2vec_sample to\n",
            "[nltk_data]    |     /root/nltk_data...\n",
            "[nltk_data]    |   Package word2vec_sample is already up-to-date!\n",
            "[nltk_data]    | Downloading package wordnet to /root/nltk_data...\n",
            "[nltk_data]    |   Package wordnet is already up-to-date!\n",
            "[nltk_data]    | Downloading package wordnet2021 to /root/nltk_data...\n",
            "[nltk_data]    |   Package wordnet2021 is already up-to-date!\n",
            "[nltk_data]    | Downloading package wordnet31 to /root/nltk_data...\n",
            "[nltk_data]    |   Package wordnet31 is already up-to-date!\n",
            "[nltk_data]    | Downloading package wordnet_ic to /root/nltk_data...\n",
            "[nltk_data]    |   Package wordnet_ic is already up-to-date!\n",
            "[nltk_data]    | Downloading package words to /root/nltk_data...\n",
            "[nltk_data]    |   Package words is already up-to-date!\n",
            "[nltk_data]    | Downloading package ycoe to /root/nltk_data...\n",
            "[nltk_data]    |   Package ycoe is already up-to-date!\n",
            "[nltk_data]    | \n",
            "[nltk_data]  Done downloading collection all\n"
          ]
        }
      ],
      "source": [
        "#For dataframes\n",
        "import pandas as pd\n",
        "%matplotlib inline\n",
        "import matplotlib\n",
        "import matplotlib.pyplot as plt\n",
        "import seaborn as sns\n",
        "#For statistics\n",
        "import numpy as np\n",
        "#NLP Preprocessing\n",
        "!pip install pycountry\n",
        "import pycountry\n",
        "import re\n",
        "import string\n",
        "import nltk\n",
        "nltk.download('all')\n",
        "from nltk.stem import WordNetLemmatizer\n",
        "from nltk.sentiment.vader import SentimentIntensityAnalyzer\n",
        "from nltk.corpus import stopwords\n",
        "from nltk.tokenize import word_tokenize\n",
        "from nltk.stem import PorterStemmer\n",
        "#Feature extraction\n",
        "from sklearn.model_selection import train_test_split\n",
        "from sklearn.feature_extraction.text import TfidfVectorizer\n",
        "from sklearn.preprocessing import LabelBinarizer\n",
        "#Metrics\n",
        "from sklearn.metrics import classification_report,confusion_matrix,accuracy_score\n",
        "from sklearn.metrics import ConfusionMatrixDisplay\n",
        "# ML Libraries\n",
        "from sklearn.naive_bayes import MultinomialNB\n",
        "from sklearn.linear_model import LogisticRegression\n",
        "from sklearn.svm import SVC\n",
        "# Hyper parameter Tuning\n",
        "from sklearn.model_selection import GridSearchCV"
      ]
    },
    {
      "cell_type": "markdown",
      "metadata": {
        "id": "suD2i6qt5pjU"
      },
      "source": [
        "##Loading Dataset"
      ]
    },
    {
      "cell_type": "code",
      "execution_count": null,
      "metadata": {
        "id": "Jb392TVR5T9Y"
      },
      "outputs": [],
      "source": [
        "data_omicron = pd.read_csv('/content/drive/My Drive/omicron.csv')"
      ]
    },
    {
      "cell_type": "markdown",
      "metadata": {
        "id": "aE601iJD57rn"
      },
      "source": [
        "##Inspecting Dataset"
      ]
    },
    {
      "cell_type": "code",
      "execution_count": null,
      "metadata": {
        "colab": {
          "base_uri": "https://localhost:8080/",
          "height": 635
        },
        "id": "d5U5WYsj6GyF",
        "outputId": "39f340c9-0387-4670-d2df-d6c0baa210ae"
      },
      "outputs": [
        {
          "output_type": "execute_result",
          "data": {
            "text/plain": [
              "                    id             user_name   user_location  \\\n",
              "0  1465693385088323591                Abaris           Hants   \n",
              "1  1465693062999412746                GFTs         Lalaland   \n",
              "2  1465690116442279942  Herbie Finkle (Cozy)             NaN   \n",
              "3  1465689607165591552     Electrical Review  United Kingdom   \n",
              "4  1465688203709464578       BingX Academy 🔑             NaN   \n",
              "\n",
              "                                    user_description         user_created  \\\n",
              "0  Would appear on Blogger (did originally),  but...  2009-09-16 14:30:32   \n",
              "1  There's a field somewhere beyond all doubt and...  2019-12-28 14:29:13   \n",
              "2                           help me find me frens ❤️  2021-07-10 09:40:57   \n",
              "3  Electrical Review is a monthly journal aimed a...  2009-05-21 08:32:19   \n",
              "4  BingX (Prev. Bingbon) is the world's top crypt...  2013-12-31 02:57:32   \n",
              "\n",
              "   user_followers  user_friends  user_favourites  user_verified  \\\n",
              "0            2880          4369            26907          False   \n",
              "1             165           583            21152          False   \n",
              "2             114           393             2339          False   \n",
              "3           20759          2321              739          False   \n",
              "4           17134             8               31          False   \n",
              "\n",
              "                  date                                               text  \\\n",
              "0  2021-11-30 14:45:08  @SkyNews \"Told you I'd be Back!\" #OMICRON “Odi...   \n",
              "1  2021-11-30 14:43:52  Someone told me this in October #Omicron https...   \n",
              "2  2021-11-30 14:32:09  Glad to see the public schoolkids are wrapping...   \n",
              "3  2021-11-30 14:30:08  #Automation systems have become increasingly c...   \n",
              "4  2021-11-30 14:24:33  🟢 If u think Omicron is a FUD, you LONG📈\\n🔴 If...   \n",
              "\n",
              "         hashtags               source  retweets  favorites  is_retweet  \n",
              "0     ['OMICRON']      Twitter Web App         0          0       False  \n",
              "1     ['Omicron']  Twitter for Android         0          0       False  \n",
              "2       ['COVID']      Twitter Web App         0          1       False  \n",
              "3  ['Automation']       Hootsuite Inc.         0          0       False  \n",
              "4             NaN      Twitter Web App         2          2       False  "
            ],
            "text/html": [
              "\n",
              "  <div id=\"df-d03bd171-1141-4f45-8732-f96c4ef91ee9\">\n",
              "    <div class=\"colab-df-container\">\n",
              "      <div>\n",
              "<style scoped>\n",
              "    .dataframe tbody tr th:only-of-type {\n",
              "        vertical-align: middle;\n",
              "    }\n",
              "\n",
              "    .dataframe tbody tr th {\n",
              "        vertical-align: top;\n",
              "    }\n",
              "\n",
              "    .dataframe thead th {\n",
              "        text-align: right;\n",
              "    }\n",
              "</style>\n",
              "<table border=\"1\" class=\"dataframe\">\n",
              "  <thead>\n",
              "    <tr style=\"text-align: right;\">\n",
              "      <th></th>\n",
              "      <th>id</th>\n",
              "      <th>user_name</th>\n",
              "      <th>user_location</th>\n",
              "      <th>user_description</th>\n",
              "      <th>user_created</th>\n",
              "      <th>user_followers</th>\n",
              "      <th>user_friends</th>\n",
              "      <th>user_favourites</th>\n",
              "      <th>user_verified</th>\n",
              "      <th>date</th>\n",
              "      <th>text</th>\n",
              "      <th>hashtags</th>\n",
              "      <th>source</th>\n",
              "      <th>retweets</th>\n",
              "      <th>favorites</th>\n",
              "      <th>is_retweet</th>\n",
              "    </tr>\n",
              "  </thead>\n",
              "  <tbody>\n",
              "    <tr>\n",
              "      <th>0</th>\n",
              "      <td>1465693385088323591</td>\n",
              "      <td>Abaris</td>\n",
              "      <td>Hants</td>\n",
              "      <td>Would appear on Blogger (did originally),  but...</td>\n",
              "      <td>2009-09-16 14:30:32</td>\n",
              "      <td>2880</td>\n",
              "      <td>4369</td>\n",
              "      <td>26907</td>\n",
              "      <td>False</td>\n",
              "      <td>2021-11-30 14:45:08</td>\n",
              "      <td>@SkyNews \"Told you I'd be Back!\" #OMICRON “Odi...</td>\n",
              "      <td>['OMICRON']</td>\n",
              "      <td>Twitter Web App</td>\n",
              "      <td>0</td>\n",
              "      <td>0</td>\n",
              "      <td>False</td>\n",
              "    </tr>\n",
              "    <tr>\n",
              "      <th>1</th>\n",
              "      <td>1465693062999412746</td>\n",
              "      <td>GFTs </td>\n",
              "      <td>Lalaland</td>\n",
              "      <td>There's a field somewhere beyond all doubt and...</td>\n",
              "      <td>2019-12-28 14:29:13</td>\n",
              "      <td>165</td>\n",
              "      <td>583</td>\n",
              "      <td>21152</td>\n",
              "      <td>False</td>\n",
              "      <td>2021-11-30 14:43:52</td>\n",
              "      <td>Someone told me this in October #Omicron https...</td>\n",
              "      <td>['Omicron']</td>\n",
              "      <td>Twitter for Android</td>\n",
              "      <td>0</td>\n",
              "      <td>0</td>\n",
              "      <td>False</td>\n",
              "    </tr>\n",
              "    <tr>\n",
              "      <th>2</th>\n",
              "      <td>1465690116442279942</td>\n",
              "      <td>Herbie Finkle (Cozy)</td>\n",
              "      <td>NaN</td>\n",
              "      <td>help me find me frens ❤️</td>\n",
              "      <td>2021-07-10 09:40:57</td>\n",
              "      <td>114</td>\n",
              "      <td>393</td>\n",
              "      <td>2339</td>\n",
              "      <td>False</td>\n",
              "      <td>2021-11-30 14:32:09</td>\n",
              "      <td>Glad to see the public schoolkids are wrapping...</td>\n",
              "      <td>['COVID']</td>\n",
              "      <td>Twitter Web App</td>\n",
              "      <td>0</td>\n",
              "      <td>1</td>\n",
              "      <td>False</td>\n",
              "    </tr>\n",
              "    <tr>\n",
              "      <th>3</th>\n",
              "      <td>1465689607165591552</td>\n",
              "      <td>Electrical Review</td>\n",
              "      <td>United Kingdom</td>\n",
              "      <td>Electrical Review is a monthly journal aimed a...</td>\n",
              "      <td>2009-05-21 08:32:19</td>\n",
              "      <td>20759</td>\n",
              "      <td>2321</td>\n",
              "      <td>739</td>\n",
              "      <td>False</td>\n",
              "      <td>2021-11-30 14:30:08</td>\n",
              "      <td>#Automation systems have become increasingly c...</td>\n",
              "      <td>['Automation']</td>\n",
              "      <td>Hootsuite Inc.</td>\n",
              "      <td>0</td>\n",
              "      <td>0</td>\n",
              "      <td>False</td>\n",
              "    </tr>\n",
              "    <tr>\n",
              "      <th>4</th>\n",
              "      <td>1465688203709464578</td>\n",
              "      <td>BingX Academy 🔑</td>\n",
              "      <td>NaN</td>\n",
              "      <td>BingX (Prev. Bingbon) is the world's top crypt...</td>\n",
              "      <td>2013-12-31 02:57:32</td>\n",
              "      <td>17134</td>\n",
              "      <td>8</td>\n",
              "      <td>31</td>\n",
              "      <td>False</td>\n",
              "      <td>2021-11-30 14:24:33</td>\n",
              "      <td>🟢 If u think Omicron is a FUD, you LONG📈\\n🔴 If...</td>\n",
              "      <td>NaN</td>\n",
              "      <td>Twitter Web App</td>\n",
              "      <td>2</td>\n",
              "      <td>2</td>\n",
              "      <td>False</td>\n",
              "    </tr>\n",
              "  </tbody>\n",
              "</table>\n",
              "</div>\n",
              "      <button class=\"colab-df-convert\" onclick=\"convertToInteractive('df-d03bd171-1141-4f45-8732-f96c4ef91ee9')\"\n",
              "              title=\"Convert this dataframe to an interactive table.\"\n",
              "              style=\"display:none;\">\n",
              "        \n",
              "  <svg xmlns=\"http://www.w3.org/2000/svg\" height=\"24px\"viewBox=\"0 0 24 24\"\n",
              "       width=\"24px\">\n",
              "    <path d=\"M0 0h24v24H0V0z\" fill=\"none\"/>\n",
              "    <path d=\"M18.56 5.44l.94 2.06.94-2.06 2.06-.94-2.06-.94-.94-2.06-.94 2.06-2.06.94zm-11 1L8.5 8.5l.94-2.06 2.06-.94-2.06-.94L8.5 2.5l-.94 2.06-2.06.94zm10 10l.94 2.06.94-2.06 2.06-.94-2.06-.94-.94-2.06-.94 2.06-2.06.94z\"/><path d=\"M17.41 7.96l-1.37-1.37c-.4-.4-.92-.59-1.43-.59-.52 0-1.04.2-1.43.59L10.3 9.45l-7.72 7.72c-.78.78-.78 2.05 0 2.83L4 21.41c.39.39.9.59 1.41.59.51 0 1.02-.2 1.41-.59l7.78-7.78 2.81-2.81c.8-.78.8-2.07 0-2.86zM5.41 20L4 18.59l7.72-7.72 1.47 1.35L5.41 20z\"/>\n",
              "  </svg>\n",
              "      </button>\n",
              "      \n",
              "  <style>\n",
              "    .colab-df-container {\n",
              "      display:flex;\n",
              "      flex-wrap:wrap;\n",
              "      gap: 12px;\n",
              "    }\n",
              "\n",
              "    .colab-df-convert {\n",
              "      background-color: #E8F0FE;\n",
              "      border: none;\n",
              "      border-radius: 50%;\n",
              "      cursor: pointer;\n",
              "      display: none;\n",
              "      fill: #1967D2;\n",
              "      height: 32px;\n",
              "      padding: 0 0 0 0;\n",
              "      width: 32px;\n",
              "    }\n",
              "\n",
              "    .colab-df-convert:hover {\n",
              "      background-color: #E2EBFA;\n",
              "      box-shadow: 0px 1px 2px rgba(60, 64, 67, 0.3), 0px 1px 3px 1px rgba(60, 64, 67, 0.15);\n",
              "      fill: #174EA6;\n",
              "    }\n",
              "\n",
              "    [theme=dark] .colab-df-convert {\n",
              "      background-color: #3B4455;\n",
              "      fill: #D2E3FC;\n",
              "    }\n",
              "\n",
              "    [theme=dark] .colab-df-convert:hover {\n",
              "      background-color: #434B5C;\n",
              "      box-shadow: 0px 1px 3px 1px rgba(0, 0, 0, 0.15);\n",
              "      filter: drop-shadow(0px 1px 2px rgba(0, 0, 0, 0.3));\n",
              "      fill: #FFFFFF;\n",
              "    }\n",
              "  </style>\n",
              "\n",
              "      <script>\n",
              "        const buttonEl =\n",
              "          document.querySelector('#df-d03bd171-1141-4f45-8732-f96c4ef91ee9 button.colab-df-convert');\n",
              "        buttonEl.style.display =\n",
              "          google.colab.kernel.accessAllowed ? 'block' : 'none';\n",
              "\n",
              "        async function convertToInteractive(key) {\n",
              "          const element = document.querySelector('#df-d03bd171-1141-4f45-8732-f96c4ef91ee9');\n",
              "          const dataTable =\n",
              "            await google.colab.kernel.invokeFunction('convertToInteractive',\n",
              "                                                     [key], {});\n",
              "          if (!dataTable) return;\n",
              "\n",
              "          const docLinkHtml = 'Like what you see? Visit the ' +\n",
              "            '<a target=\"_blank\" href=https://colab.research.google.com/notebooks/data_table.ipynb>data table notebook</a>'\n",
              "            + ' to learn more about interactive tables.';\n",
              "          element.innerHTML = '';\n",
              "          dataTable['output_type'] = 'display_data';\n",
              "          await google.colab.output.renderOutput(dataTable, element);\n",
              "          const docLink = document.createElement('div');\n",
              "          docLink.innerHTML = docLinkHtml;\n",
              "          element.appendChild(docLink);\n",
              "        }\n",
              "      </script>\n",
              "    </div>\n",
              "  </div>\n",
              "  "
            ]
          },
          "metadata": {},
          "execution_count": 5
        }
      ],
      "source": [
        "data_omicron.head()"
      ]
    },
    {
      "cell_type": "code",
      "execution_count": null,
      "metadata": {
        "colab": {
          "base_uri": "https://localhost:8080/"
        },
        "id": "zN15wLwo7E64",
        "outputId": "1757f262-fc78-4ecb-e5db-998371fdeeca"
      },
      "outputs": [
        {
          "output_type": "stream",
          "name": "stdout",
          "text": [
            "<class 'pandas.core.frame.DataFrame'>\n",
            "RangeIndex: 78168 entries, 0 to 78167\n",
            "Data columns (total 16 columns):\n",
            " #   Column            Non-Null Count  Dtype \n",
            "---  ------            --------------  ----- \n",
            " 0   id                78168 non-null  int64 \n",
            " 1   user_name         78168 non-null  object\n",
            " 2   user_location     61122 non-null  object\n",
            " 3   user_description  73693 non-null  object\n",
            " 4   user_created      78168 non-null  object\n",
            " 5   user_followers    78168 non-null  int64 \n",
            " 6   user_friends      78168 non-null  int64 \n",
            " 7   user_favourites   78168 non-null  int64 \n",
            " 8   user_verified     78168 non-null  bool  \n",
            " 9   date              78168 non-null  object\n",
            " 10  text              78168 non-null  object\n",
            " 11  hashtags          54673 non-null  object\n",
            " 12  source            78168 non-null  object\n",
            " 13  retweets          78168 non-null  int64 \n",
            " 14  favorites         78168 non-null  int64 \n",
            " 15  is_retweet        78168 non-null  bool  \n",
            "dtypes: bool(2), int64(6), object(8)\n",
            "memory usage: 8.5+ MB\n"
          ]
        }
      ],
      "source": [
        "data_omicron.info()"
      ]
    },
    {
      "cell_type": "code",
      "execution_count": null,
      "metadata": {
        "colab": {
          "base_uri": "https://localhost:8080/",
          "height": 364
        },
        "id": "YRuDMsUh7IYT",
        "outputId": "b1275bde-1246-4ff5-f8bf-cb5431e6e6de"
      },
      "outputs": [
        {
          "output_type": "execute_result",
          "data": {
            "text/plain": [
              "                 id  user_followers   user_friends  user_favourites  \\\n",
              "count  7.816800e+04    7.816800e+04   78168.000000     7.816800e+04   \n",
              "mean   1.474922e+18    1.621342e+05    1826.918215     1.828934e+04   \n",
              "std    7.954872e+15    1.124701e+06    9064.529514     5.386442e+04   \n",
              "min    1.465648e+18    0.000000e+00       0.000000     0.000000e+00   \n",
              "25%    1.468108e+18    1.000000e+02      88.000000     3.700000e+02   \n",
              "50%    1.471580e+18    7.800000e+02     438.000000     2.069000e+03   \n",
              "75%    1.481682e+18    4.521000e+03    1553.000000     1.320775e+04   \n",
              "max    1.490261e+18    1.668546e+07  386228.000000     1.471907e+06   \n",
              "\n",
              "           retweets     favorites  \n",
              "count  78168.000000  78168.000000  \n",
              "mean       1.869090      6.317867  \n",
              "std       21.294972     92.581616  \n",
              "min        0.000000      0.000000  \n",
              "25%        0.000000      0.000000  \n",
              "50%        0.000000      1.000000  \n",
              "75%        1.000000      2.000000  \n",
              "max     3808.000000  21790.000000  "
            ],
            "text/html": [
              "\n",
              "  <div id=\"df-eb0eb53b-c20b-4aef-99c9-d9f6a2b77017\">\n",
              "    <div class=\"colab-df-container\">\n",
              "      <div>\n",
              "<style scoped>\n",
              "    .dataframe tbody tr th:only-of-type {\n",
              "        vertical-align: middle;\n",
              "    }\n",
              "\n",
              "    .dataframe tbody tr th {\n",
              "        vertical-align: top;\n",
              "    }\n",
              "\n",
              "    .dataframe thead th {\n",
              "        text-align: right;\n",
              "    }\n",
              "</style>\n",
              "<table border=\"1\" class=\"dataframe\">\n",
              "  <thead>\n",
              "    <tr style=\"text-align: right;\">\n",
              "      <th></th>\n",
              "      <th>id</th>\n",
              "      <th>user_followers</th>\n",
              "      <th>user_friends</th>\n",
              "      <th>user_favourites</th>\n",
              "      <th>retweets</th>\n",
              "      <th>favorites</th>\n",
              "    </tr>\n",
              "  </thead>\n",
              "  <tbody>\n",
              "    <tr>\n",
              "      <th>count</th>\n",
              "      <td>7.816800e+04</td>\n",
              "      <td>7.816800e+04</td>\n",
              "      <td>78168.000000</td>\n",
              "      <td>7.816800e+04</td>\n",
              "      <td>78168.000000</td>\n",
              "      <td>78168.000000</td>\n",
              "    </tr>\n",
              "    <tr>\n",
              "      <th>mean</th>\n",
              "      <td>1.474922e+18</td>\n",
              "      <td>1.621342e+05</td>\n",
              "      <td>1826.918215</td>\n",
              "      <td>1.828934e+04</td>\n",
              "      <td>1.869090</td>\n",
              "      <td>6.317867</td>\n",
              "    </tr>\n",
              "    <tr>\n",
              "      <th>std</th>\n",
              "      <td>7.954872e+15</td>\n",
              "      <td>1.124701e+06</td>\n",
              "      <td>9064.529514</td>\n",
              "      <td>5.386442e+04</td>\n",
              "      <td>21.294972</td>\n",
              "      <td>92.581616</td>\n",
              "    </tr>\n",
              "    <tr>\n",
              "      <th>min</th>\n",
              "      <td>1.465648e+18</td>\n",
              "      <td>0.000000e+00</td>\n",
              "      <td>0.000000</td>\n",
              "      <td>0.000000e+00</td>\n",
              "      <td>0.000000</td>\n",
              "      <td>0.000000</td>\n",
              "    </tr>\n",
              "    <tr>\n",
              "      <th>25%</th>\n",
              "      <td>1.468108e+18</td>\n",
              "      <td>1.000000e+02</td>\n",
              "      <td>88.000000</td>\n",
              "      <td>3.700000e+02</td>\n",
              "      <td>0.000000</td>\n",
              "      <td>0.000000</td>\n",
              "    </tr>\n",
              "    <tr>\n",
              "      <th>50%</th>\n",
              "      <td>1.471580e+18</td>\n",
              "      <td>7.800000e+02</td>\n",
              "      <td>438.000000</td>\n",
              "      <td>2.069000e+03</td>\n",
              "      <td>0.000000</td>\n",
              "      <td>1.000000</td>\n",
              "    </tr>\n",
              "    <tr>\n",
              "      <th>75%</th>\n",
              "      <td>1.481682e+18</td>\n",
              "      <td>4.521000e+03</td>\n",
              "      <td>1553.000000</td>\n",
              "      <td>1.320775e+04</td>\n",
              "      <td>1.000000</td>\n",
              "      <td>2.000000</td>\n",
              "    </tr>\n",
              "    <tr>\n",
              "      <th>max</th>\n",
              "      <td>1.490261e+18</td>\n",
              "      <td>1.668546e+07</td>\n",
              "      <td>386228.000000</td>\n",
              "      <td>1.471907e+06</td>\n",
              "      <td>3808.000000</td>\n",
              "      <td>21790.000000</td>\n",
              "    </tr>\n",
              "  </tbody>\n",
              "</table>\n",
              "</div>\n",
              "      <button class=\"colab-df-convert\" onclick=\"convertToInteractive('df-eb0eb53b-c20b-4aef-99c9-d9f6a2b77017')\"\n",
              "              title=\"Convert this dataframe to an interactive table.\"\n",
              "              style=\"display:none;\">\n",
              "        \n",
              "  <svg xmlns=\"http://www.w3.org/2000/svg\" height=\"24px\"viewBox=\"0 0 24 24\"\n",
              "       width=\"24px\">\n",
              "    <path d=\"M0 0h24v24H0V0z\" fill=\"none\"/>\n",
              "    <path d=\"M18.56 5.44l.94 2.06.94-2.06 2.06-.94-2.06-.94-.94-2.06-.94 2.06-2.06.94zm-11 1L8.5 8.5l.94-2.06 2.06-.94-2.06-.94L8.5 2.5l-.94 2.06-2.06.94zm10 10l.94 2.06.94-2.06 2.06-.94-2.06-.94-.94-2.06-.94 2.06-2.06.94z\"/><path d=\"M17.41 7.96l-1.37-1.37c-.4-.4-.92-.59-1.43-.59-.52 0-1.04.2-1.43.59L10.3 9.45l-7.72 7.72c-.78.78-.78 2.05 0 2.83L4 21.41c.39.39.9.59 1.41.59.51 0 1.02-.2 1.41-.59l7.78-7.78 2.81-2.81c.8-.78.8-2.07 0-2.86zM5.41 20L4 18.59l7.72-7.72 1.47 1.35L5.41 20z\"/>\n",
              "  </svg>\n",
              "      </button>\n",
              "      \n",
              "  <style>\n",
              "    .colab-df-container {\n",
              "      display:flex;\n",
              "      flex-wrap:wrap;\n",
              "      gap: 12px;\n",
              "    }\n",
              "\n",
              "    .colab-df-convert {\n",
              "      background-color: #E8F0FE;\n",
              "      border: none;\n",
              "      border-radius: 50%;\n",
              "      cursor: pointer;\n",
              "      display: none;\n",
              "      fill: #1967D2;\n",
              "      height: 32px;\n",
              "      padding: 0 0 0 0;\n",
              "      width: 32px;\n",
              "    }\n",
              "\n",
              "    .colab-df-convert:hover {\n",
              "      background-color: #E2EBFA;\n",
              "      box-shadow: 0px 1px 2px rgba(60, 64, 67, 0.3), 0px 1px 3px 1px rgba(60, 64, 67, 0.15);\n",
              "      fill: #174EA6;\n",
              "    }\n",
              "\n",
              "    [theme=dark] .colab-df-convert {\n",
              "      background-color: #3B4455;\n",
              "      fill: #D2E3FC;\n",
              "    }\n",
              "\n",
              "    [theme=dark] .colab-df-convert:hover {\n",
              "      background-color: #434B5C;\n",
              "      box-shadow: 0px 1px 3px 1px rgba(0, 0, 0, 0.15);\n",
              "      filter: drop-shadow(0px 1px 2px rgba(0, 0, 0, 0.3));\n",
              "      fill: #FFFFFF;\n",
              "    }\n",
              "  </style>\n",
              "\n",
              "      <script>\n",
              "        const buttonEl =\n",
              "          document.querySelector('#df-eb0eb53b-c20b-4aef-99c9-d9f6a2b77017 button.colab-df-convert');\n",
              "        buttonEl.style.display =\n",
              "          google.colab.kernel.accessAllowed ? 'block' : 'none';\n",
              "\n",
              "        async function convertToInteractive(key) {\n",
              "          const element = document.querySelector('#df-eb0eb53b-c20b-4aef-99c9-d9f6a2b77017');\n",
              "          const dataTable =\n",
              "            await google.colab.kernel.invokeFunction('convertToInteractive',\n",
              "                                                     [key], {});\n",
              "          if (!dataTable) return;\n",
              "\n",
              "          const docLinkHtml = 'Like what you see? Visit the ' +\n",
              "            '<a target=\"_blank\" href=https://colab.research.google.com/notebooks/data_table.ipynb>data table notebook</a>'\n",
              "            + ' to learn more about interactive tables.';\n",
              "          element.innerHTML = '';\n",
              "          dataTable['output_type'] = 'display_data';\n",
              "          await google.colab.output.renderOutput(dataTable, element);\n",
              "          const docLink = document.createElement('div');\n",
              "          docLink.innerHTML = docLinkHtml;\n",
              "          element.appendChild(docLink);\n",
              "        }\n",
              "      </script>\n",
              "    </div>\n",
              "  </div>\n",
              "  "
            ]
          },
          "metadata": {},
          "execution_count": 7
        }
      ],
      "source": [
        "data_omicron.describe()"
      ]
    },
    {
      "cell_type": "code",
      "execution_count": null,
      "metadata": {
        "colab": {
          "base_uri": "https://localhost:8080/"
        },
        "id": "W_ZxZ_A57O81",
        "outputId": "91741bbf-5315-4ed0-efde-85d28d686347"
      },
      "outputs": [
        {
          "output_type": "execute_result",
          "data": {
            "text/plain": [
              "45016"
            ]
          },
          "metadata": {},
          "execution_count": 8
        }
      ],
      "source": [
        "#total null values\n",
        "data_omicron.isnull().sum().sum()"
      ]
    },
    {
      "cell_type": "code",
      "execution_count": null,
      "metadata": {
        "colab": {
          "base_uri": "https://localhost:8080/"
        },
        "id": "D6ax-BGx7V0M",
        "outputId": "f0ecfe55-f17e-462a-d3b8-07a7fa033104"
      },
      "outputs": [
        {
          "output_type": "execute_result",
          "data": {
            "text/plain": [
              "id                      0\n",
              "user_name               0\n",
              "user_location       17046\n",
              "user_description     4475\n",
              "user_created            0\n",
              "user_followers          0\n",
              "user_friends            0\n",
              "user_favourites         0\n",
              "user_verified           0\n",
              "date                    0\n",
              "text                    0\n",
              "hashtags            23495\n",
              "source                  0\n",
              "retweets                0\n",
              "favorites               0\n",
              "is_retweet              0\n",
              "dtype: int64"
            ]
          },
          "metadata": {},
          "execution_count": 9
        }
      ],
      "source": [
        "pd.isnull(data_omicron).sum()"
      ]
    },
    {
      "cell_type": "markdown",
      "metadata": {
        "id": "2iCA2OkR7jHa"
      },
      "source": [
        "<b>So from a preliminary analysis of our data we can see that the train set contains 78168 rows and 16 columns. Our data contains about 3.6% of missing values with them being in 'user_location', 'user_description' and 'hashtags' columns. There are 6 numerical, 8 categorical and 2 boolean columns.</b>"
      ]
    },
    {
      "cell_type": "markdown",
      "metadata": {
        "id": "oj3WcfkI7m61"
      },
      "source": [
        "##Exploratory Data Analysis"
      ]
    },
    {
      "cell_type": "markdown",
      "metadata": {
        "id": "Kbrq4ziz9IWe"
      },
      "source": [
        "###Data Visualisation - Missing Values"
      ]
    },
    {
      "cell_type": "markdown",
      "metadata": {
        "id": "xBh36X8R-3s5"
      },
      "source": [
        "####Displot"
      ]
    },
    {
      "cell_type": "code",
      "execution_count": null,
      "metadata": {
        "colab": {
          "base_uri": "https://localhost:8080/",
          "height": 255
        },
        "id": "W8WEzLXD7blF",
        "outputId": "218400d0-2be7-43d6-f33c-bce18bb42c00"
      },
      "outputs": [
        {
          "output_type": "display_data",
          "data": {
            "text/plain": [
              "<Figure size 1440x1080 with 0 Axes>"
            ]
          },
          "metadata": {}
        },
        {
          "output_type": "display_data",
          "data": {
            "text/plain": [
              "<Figure size 1141.25x360 with 1 Axes>"
            ],
            "image/png": "[encoded data removed]"
          },
          "metadata": {
            "needs_background": "light"
          }
        }
      ],
      "source": [
        "plt.figure(figsize=(20,15))\n",
        "sns.displot(\n",
        "    data=data_omicron.isna().melt(value_name=\"missing\"),\n",
        "    y=\"variable\",\n",
        "    hue=\"missing\",\n",
        "    multiple=\"fill\",\n",
        "    aspect=3,\n",
        "    palette=\"flare\"\n",
        ")\n",
        "plt.title('Bar plot showing Missing Values in training data', weight = 'bold', size = 25, color = 'brown')\n",
        "plt.xlabel(\" \")\n",
        "plt.ylabel(\" \")\n",
        "plt.xticks(size = 12, weight = 'bold', color = 'black')\n",
        "plt.yticks(size = 12, weight = 'bold', color = 'black')\n",
        "plt.show()"
      ]
    },
    {
      "cell_type": "markdown",
      "metadata": {
        "id": "csTdF2ek_uW1"
      },
      "source": [
        "####Correlation Matrix"
      ]
    },
    {
      "cell_type": "code",
      "execution_count": null,
      "metadata": {
        "colab": {
          "base_uri": "https://localhost:8080/",
          "height": 353
        },
        "id": "7EQguxhS_hzH",
        "outputId": "386455ff-9b90-4df2-ea47-d6d097fcd960"
      },
      "outputs": [
        {
          "output_type": "execute_result",
          "data": {
            "text/plain": [
              "<matplotlib.axes._subplots.AxesSubplot at 0x7f81790861f0>"
            ]
          },
          "metadata": {},
          "execution_count": 11
        },
        {
          "output_type": "display_data",
          "data": {
            "text/plain": [
              "<Figure size 432x288 with 2 Axes>"
            ],
            "image/png": "[encoded data removed]"
          },
          "metadata": {
            "needs_background": "light"
          }
        }
      ],
      "source": [
        "sns.heatmap(data_omicron.corr(), square=True, cmap=\"BuPu\")"
      ]
    },
    {
      "cell_type": "markdown",
      "metadata": {
        "id": "bIUMxX52_3ti"
      },
      "source": [
        "<b>From this we can see that favourites and retweets are highly correlated which makes sense. Also user_verified and user_followers have a high correlation.</b>"
      ]
    },
    {
      "cell_type": "markdown",
      "metadata": {
        "id": "ZhZFo7jiDPih"
      },
      "source": [
        "#### Location - Data Visualisation"
      ]
    },
    {
      "cell_type": "code",
      "execution_count": null,
      "metadata": {
        "colab": {
          "base_uri": "https://localhost:8080/"
        },
        "id": "nXuEwRGcCn9W",
        "outputId": "7335bfd9-6af2-4c97-b959-364c3e6f746a"
      },
      "outputs": [
        {
          "output_type": "execute_result",
          "data": {
            "text/plain": [
              "['United Kingdom', 'Canada', 'Sri Lanka', 'India', 'Spain']"
            ]
          },
          "metadata": {},
          "execution_count": 12
        }
      ],
      "source": [
        "# excluding null values (where location is not specified) in user_location \n",
        "location = [loc for loc in data_omicron['user_location'] if type(loc)==str]\n",
        "\n",
        "# extracting country names from given location\n",
        "country_name = [country.name for loc in location for country in pycountry.countries if country.name in loc]\n",
        "country_name[:5]"
      ]
    },
    {
      "cell_type": "code",
      "source": [
        "type(country_name)"
      ],
      "metadata": {
        "colab": {
          "base_uri": "https://localhost:8080/"
        },
        "id": "qmYuzTX4MD6A",
        "outputId": "c14c3e75-eacb-4222-e54f-c02d4db6af1e"
      },
      "execution_count": null,
      "outputs": [
        {
          "output_type": "execute_result",
          "data": {
            "text/plain": [
              "list"
            ]
          },
          "metadata": {},
          "execution_count": 13
        }
      ]
    },
    {
      "cell_type": "code",
      "execution_count": null,
      "metadata": {
        "colab": {
          "base_uri": "https://localhost:8080/",
          "height": 305
        },
        "id": "jLNRS4ZoDibQ",
        "outputId": "828d6b9b-4ed6-492f-884c-8f358d32d134"
      },
      "outputs": [
        {
          "output_type": "display_data",
          "data": {
            "text/plain": [
              "<Figure size 1440x576 with 1 Axes>"
            ],
            "image/png": "[encoded data removed]"
          },
          "metadata": {
            "needs_background": "light"
          }
        }
      ],
      "source": [
        "# dictionary to count the number of occurances of each country\n",
        "count={}\n",
        "for country in country_name:\n",
        "    count[country] = count.get(country, 0) + 1\n",
        "\n",
        "# Country vs tweets count\n",
        "df_country = pd.DataFrame({'Country': list(count.keys()),'Tweets Count': list(count.values())})\n",
        "df_country = df_country.sort_values(by = 'Tweets Count', ascending=False)#In descending order\n",
        "df_country = df_country[:10] # top 10 countries\n",
        "\n",
        "# plot the data\n",
        "plt.figure(figsize=(20,8))\n",
        "plt.title('Country vs Tweets Count', size='xx-large')\n",
        "ax = sns.barplot(x='Country', y='Tweets Count',data=df_country, palette='hls', edgecolor='grey');\n",
        "#ax.bar_label(ax.containers[0])\n",
        "plt.show()"
      ]
    },
    {
      "cell_type": "markdown",
      "metadata": {
        "id": "HwYbkpugRaTZ"
      },
      "source": [
        "##Data Preprocessing"
      ]
    },
    {
      "cell_type": "markdown",
      "metadata": {
        "id": "qNIgKjV7Rdsp"
      },
      "source": [
        "###Tweet Preprocessor"
      ]
    },
    {
      "cell_type": "code",
      "execution_count": null,
      "metadata": {
        "id": "hrbhbQqT1JiP"
      },
      "outputs": [],
      "source": [
        "# Setting lemmatizer variable\n",
        "lemmatizer = WordNetLemmatizer()\n",
        "stopword = set(stopwords.words('english'))"
      ]
    },
    {
      "cell_type": "code",
      "execution_count": null,
      "metadata": {
        "id": "mpfzBcpiPB4f"
      },
      "outputs": [],
      "source": [
        "# preprocess text\n",
        "def tweet_processor(text):\n",
        "    \n",
        "    # remove new lines\n",
        "    text = text.replace('\\n', ' ')\n",
        "    \n",
        "    # remove links\n",
        "    text = re.sub('https?://\\S+|www\\.\\S+', ' ', text)\n",
        "    \n",
        "    # remove hashtags at the end of text\n",
        "    text = re.sub('#(?!(?:hashtag)\\b)[\\w-]+(?=(?:\\s+#[\\w-]+)*\\s*$)', '',text)\n",
        "    \n",
        "    # remove handles\n",
        "    text = re.sub('@[\\w]+', '',text)\n",
        "    \n",
        "    # remove punctuations\n",
        "    punc ='''.?!,:;-_—[](){}'\"`~|\\/@#$%^&+=*'''\n",
        "    for i in text:\n",
        "        if i in punc:\n",
        "            text = text.replace(i, '') \n",
        "    \n",
        "    # remove extra spaces\n",
        "    re.sub(\"\\s\\s+\", \" \", text)\n",
        "    \n",
        "    # lower case\n",
        "    text = text.strip().lower()\n",
        "    \n",
        "    # lemmatization\n",
        "    text = [lemmatizer.lemmatize(word) for word in text.split(' ')]\n",
        "    text=\" \".join(text)\n",
        "    \n",
        "    # stopword removal\n",
        "    text = [word for word in text.split(' ') if word not in stopword]\n",
        "    text=\" \".join(text)\n",
        "\n",
        "    \n",
        "    # replace covid19 with covid\n",
        "    text=text.replace('covid19','covid')\n",
        "    \n",
        "    return text\n",
        "\n",
        "# remove promotional tweets (with words 'subscribe' and 'subscription')\n",
        "def no_spam(text):\n",
        "    if 'subscri' in text:\n",
        "        text=''\n",
        "    return text"
      ]
    },
    {
      "cell_type": "code",
      "execution_count": null,
      "metadata": {
        "id": "0-cStp8vRoFL"
      },
      "outputs": [],
      "source": [
        "#Applying tweet processor\n",
        "data_omicron['text'] = data_omicron['text'].apply(tweet_processor)"
      ]
    },
    {
      "cell_type": "code",
      "execution_count": null,
      "metadata": {
        "colab": {
          "base_uri": "https://localhost:8080/"
        },
        "id": "ogtjIyErXD-_",
        "outputId": "48859bb4-ba73-431b-dc70-c29f2d0ede92"
      },
      "outputs": [
        {
          "output_type": "execute_result",
          "data": {
            "text/plain": [
              "0        told id back omicron “odium medicum insensate ...\n",
              "1                                     someone told october\n",
              "2        glad see public schoolkids wrapping 2021 sign ...\n",
              "3        automation system become increasingly complex ...\n",
              "4        🟢 u think omicron fud long📈 🔴 u think omicron ...\n",
              "                               ...                        \n",
              "78163    growth 7d u confirmed covid case county mt   2...\n",
              "78164    elek ticker symbol big big green ev car winner...\n",
              "78165    yep everyone almost omicron wa vaccinated son ...\n",
              "78166    elek ticker symbol big big green ev car winner...\n",
              "78167    american get sicker omicron stall everything h...\n",
              "Name: text, Length: 78168, dtype: object"
            ]
          },
          "metadata": {},
          "execution_count": 16
        }
      ],
      "source": [
        "data_omicron['text'] "
      ]
    },
    {
      "cell_type": "code",
      "execution_count": null,
      "metadata": {
        "id": "_C8gWHDw2AoJ"
      },
      "outputs": [],
      "source": [
        "# function\n",
        "def demoji(text):\n",
        "    \n",
        "    # frequent emojis whhich will be kept\n",
        "    pattern = '😤|😡|😠|😑|🙄|🤨|😶|😱|🙀|😲|😓|😰|😢|😥|😭|😪|🤕|😔|😣|🙁|😒|😖|😕|🥴|🤒|☹️|😞|😷|🤧|😧|😨|😩|🥺|😦|😆|😀|🤭|🤩|😌|🥰|😁|😘|😂|😅|😊|😝|😙|😇'\n",
        "    for word in text:    \n",
        "        if re.match(pattern, word):\n",
        "            continue\n",
        "            \n",
        "        # remove all other non ascii characters\n",
        "        text=text.replace(word, re.sub('[^\\x00-\\x7f]','', word)).strip()\n",
        "        \n",
        "    return text\n",
        "\n",
        "# apply function\n",
        "data_omicron['text']= data_omicron['text'].apply(demoji)"
      ]
    },
    {
      "cell_type": "code",
      "execution_count": null,
      "metadata": {
        "id": "61ME3Fhs2LY6"
      },
      "outputs": [],
      "source": [
        "# funtion\n",
        "def convert(text):\n",
        "    \n",
        "    # dictionary of emoji with their meaning\n",
        "    d = {'😤':'frustrated','😡':'angry','😠':'angry','😱':'horrified','🙀':'shock','😲':'shock','🙄':'disapproval','🤨':'suspicion',\n",
        "         '😶':'disappointment','😓':'sad','😰':'sad','😢':'sad','😥':'sad','😭':'sad','😪':'sad','🤕':'sad','😔':'sad','😣':'sad','🙁':'sad',\n",
        "         '😒':'sad','😖':'sad','😕':'sad','🥴':'sad','🤒':'sad','☹️':'sad','😞':'sad','😷':'sick','🤧':'sick','😧':'sad','😨':'sad',\n",
        "         '😩':'sad','🥺':'sad','😦':'sad','😫':'sad','😆':'happy','😀':'smile','🤭':'embarrassment','🤩':'exciting','🥰':'affection',\n",
        "         '😁':'smile','😂':'laugh','😅':'nervousness','😊':'smile','😝':'fun','😙':'affection','😇':'blessed'}\n",
        "    \n",
        "    for emoji, sentiment in d.items():\n",
        "        text=text.replace(emoji, sentiment)\n",
        "    return text\n",
        "\n",
        "# apply function\n",
        "data_omicron['senti_text']= data_omicron['text'].apply(convert)"
      ]
    },
    {
      "cell_type": "markdown",
      "metadata": {
        "id": "ANe2LgNj2Vml"
      },
      "source": [
        "###Word Cloud"
      ]
    },
    {
      "cell_type": "code",
      "execution_count": null,
      "metadata": {
        "colab": {
          "base_uri": "https://localhost:8080/"
        },
        "id": "hx61HjRr2YE_",
        "outputId": "d1dcaa52-85d1-472f-965f-3b2a994be5e8"
      },
      "outputs": [
        {
          "output_type": "display_data",
          "data": {
            "text/plain": [
              "<Figure size 864x576 with 1 Axes>"
            ],
            "image/png": "[encoded data removed]"
          },
          "metadata": {
            "needs_background": "light"
          }
        }
      ],
      "source": [
        "from wordcloud import WordCloud, STOPWORDS\n",
        "# creating the text variable\n",
        "text = \" \".join(tweet for tweet in data_omicron.senti_text)\n",
        "\n",
        "# Creating word_cloud with text as argument in .generate() method\n",
        "word_cloud = WordCloud(collocations=False, background_color='white',\n",
        "                       max_words=50, stopwords=STOPWORDS, min_word_length=4,\n",
        "                       width=2048, height=1080).generate(text)\n",
        "\n",
        "# Display the generated Word Cloud\n",
        "plt.figure(figsize=(12,8))\n",
        "plt.imshow(word_cloud, interpolation='bilinear')\n",
        "plt.axis(\"off\")\n",
        "plt.title('Omicron Tweets Word Cloud\\n', size='x-large')\n",
        "plt.savefig('./omicron.jpg',dpi=720) # saving the image\n",
        "plt.show()"
      ]
    },
    {
      "cell_type": "markdown",
      "metadata": {
        "id": "Lfy_rnz12sLD"
      },
      "source": [
        "###No. of words in the text"
      ]
    },
    {
      "cell_type": "code",
      "execution_count": null,
      "metadata": {
        "colab": {
          "base_uri": "https://localhost:8080/"
        },
        "id": "m8vrCqli2vfw",
        "outputId": "00b8c2fd-0f30-472f-c333-aef2c68ac3ac"
      },
      "outputs": [
        {
          "output_type": "display_data",
          "data": {
            "text/plain": [
              "<Figure size 1080x504 with 1 Axes>"
            ],
            "image/png": "[encoded data removed]"
          },
          "metadata": {
            "needs_background": "light"
          }
        }
      ],
      "source": [
        "# word count\n",
        "word_count = [len(text.split()) for text in data_omicron.senti_text]\n",
        "data_omicron['word_count'] = word_count\n",
        "\n",
        "# plot\n",
        "plt.figure(figsize=(15,7))\n",
        "ax=sns.histplot(x='word_count', data=data_omicron, bins=20, color='#00acee')\n",
        "#ax.bar_label(ax.containers[0])\n",
        "plt.title('Number of words in text',size='xx-large')\n",
        "plt.xlabel('No:of words')\n",
        "plt.ylabel('No:of tweets')\n",
        "plt.show()"
      ]
    },
    {
      "cell_type": "code",
      "execution_count": null,
      "metadata": {
        "id": "N41dfbPBXFTI"
      },
      "outputs": [],
      "source": [
        "word_count = [len(text.split()) for text in data_omicron.senti_text]\n",
        "data_omicron['word_count'] = word_count\n",
        "\n",
        "# excluding text with less than 3 words\n",
        "data_omicron=data_omicron[data_omicron['word_count']>2]\n",
        "\n",
        "# excluding tweets with more than 16 words\n",
        "data_omicron=data_omicron[data_omicron['word_count']<17]"
      ]
    },
    {
      "cell_type": "markdown",
      "metadata": {
        "id": "I3fZnehi28TJ"
      },
      "source": [
        "##Sentiment Analysis"
      ]
    },
    {
      "cell_type": "code",
      "execution_count": null,
      "metadata": {
        "id": "5jh2KOfN6OaH"
      },
      "outputs": [],
      "source": [
        "#Subjectivity of the processed data\n",
        "#Create a function to get the subjectivity\n",
        "def getSubjectivity(text):\n",
        "  return TextBlob(text).sentiment.subjectivity"
      ]
    },
    {
      "cell_type": "code",
      "execution_count": null,
      "metadata": {
        "id": "xc7daI6L6RBi"
      },
      "outputs": [],
      "source": [
        "#Polarity of the processed data\n",
        "#Create a function to get the polarity\n",
        "def getPolarity(text):\n",
        "  return TextBlob(text).sentiment.polarity"
      ]
    },
    {
      "cell_type": "code",
      "execution_count": null,
      "metadata": {
        "id": "C1G24u0j6TTt"
      },
      "outputs": [],
      "source": [
        "#To get subjectivity and polarity, import textblob\n",
        "from textblob import TextBlob\n",
        "#Creating columns to display subjectivity and polarity\n",
        "data_omicron['Subjectivity'] = data_omicron['senti_text'].apply(getSubjectivity)\n",
        "data_omicron['Polarity'] = data_omicron['senti_text'].apply(getPolarity)"
      ]
    },
    {
      "cell_type": "code",
      "execution_count": null,
      "metadata": {
        "id": "PoJikqTl55kd"
      },
      "outputs": [],
      "source": [
        "def getComputation(score):\n",
        "    if score < 0:\n",
        "        return 'Negative'\n",
        "    elif score == 0:\n",
        "        return 'Neutral'\n",
        "    elif score > 0:\n",
        "        return 'Positive'\n",
        "data_omicron['Computation_Analysis'] = data_omicron['Polarity'].apply(getComputation)"
      ]
    },
    {
      "cell_type": "code",
      "execution_count": null,
      "metadata": {
        "id": "r1OWXFnj6E9t"
      },
      "outputs": [],
      "source": [
        "#Creating a new dataframe sort_data to sort te polarity amd computation analysis\n",
        "data_omicron_sort = data_omicron.sort_values(by=['Polarity'])"
      ]
    },
    {
      "cell_type": "code",
      "execution_count": null,
      "metadata": {
        "id": "jFqyfj6hicW4",
        "colab": {
          "base_uri": "https://localhost:8080/",
          "height": 664
        },
        "outputId": "47f90618-debd-4fc2-bc70-8a669034cf3c"
      },
      "outputs": [
        {
          "output_type": "execute_result",
          "data": {
            "text/plain": [
              "                        id                                      user_name  \\\n",
              "749    1465687210951430144                               PenelopeWinthrop   \n",
              "26291  1469440036437377031  🌬 Stay Alert, #Covid_19 Is Still In The Air 🌬   \n",
              "9734   1466648872030072835                        Gaon Connection English   \n",
              "51294  1479786555250073601                                          Selsy   \n",
              "63825  1485608911952498692                                         Recoon   \n",
              "\n",
              "                      user_location  \\\n",
              "749                   South Florida   \n",
              "26291  Nederland België Deutschland   \n",
              "9734                 Lucknow, India   \n",
              "51294             Coimbatore, India   \n",
              "63825                           NaN   \n",
              "\n",
              "                                        user_description         user_created  \\\n",
              "749    It's no use going back to yesterday because I ...  2014-06-04 03:19:29   \n",
              "26291  De zoektocht naar oorsprong van #COVID_19 #Ori...  2020-03-22 01:58:59   \n",
              "9734   Gaon Connection English is an initiative of Ga...  2019-12-12 08:41:52   \n",
              "51294                                                NaN  2022-01-05 13:39:04   \n",
              "63825                                                NaN  2019-10-16 15:18:22   \n",
              "\n",
              "       user_followers  user_friends  user_favourites  user_verified  \\\n",
              "749              3450          2232             2464          False   \n",
              "26291             130           125             9145          False   \n",
              "9734             6167           115              816           True   \n",
              "51294               1            22               22          False   \n",
              "63825             446          1129            10709          False   \n",
              "\n",
              "                      date  ...  \\\n",
              "749    2021-11-30 14:20:36  ...   \n",
              "26291  2021-12-10 22:53:00  ...   \n",
              "9734   2021-12-03 06:01:54  ...   \n",
              "51294  2022-01-08 12:06:22  ...   \n",
              "63825  2022-01-24 13:42:20  ...   \n",
              "\n",
              "                                                hashtags               source  \\\n",
              "749                                                  NaN   Twitter for iPhone   \n",
              "26291                                                NaN      Twitter Web App   \n",
              "9734   ['COVID19', 'coronavirus', 'Omicron', 'Omicron...  Twitter for Android   \n",
              "51294                                         ['corona']  Twitter for Android   \n",
              "63825                               ['wuhan', 'Omicron']  Twitter for Android   \n",
              "\n",
              "      retweets  favorites  is_retweet  \\\n",
              "749          0          0       False   \n",
              "26291        0          0       False   \n",
              "9734         0          0       False   \n",
              "51294        0          0       False   \n",
              "63825        0          0       False   \n",
              "\n",
              "                                              senti_text word_count  \\\n",
              "749    im retweeting fox b however type reporting dis...         11   \n",
              "26291  terrible review show covid lab leak theory won...         11   \n",
              "9734   explained known omicron  worst covid variant e...         10   \n",
              "51294  2021 wa cruel lost family name corona literall...         11   \n",
              "63825                          wuhan make life miserable          4   \n",
              "\n",
              "       Subjectivity  Polarity  Computation_Analysis  \n",
              "749             1.0      -1.0              Negative  \n",
              "26291           1.0      -1.0              Negative  \n",
              "9734            1.0      -1.0              Negative  \n",
              "51294           1.0      -1.0              Negative  \n",
              "63825           1.0      -1.0              Negative  \n",
              "\n",
              "[5 rows x 21 columns]"
            ],
            "text/html": [
              "\n",
              "  <div id=\"df-7b4e7ab3-9287-4c25-9590-e2c7fa5955e7\">\n",
              "    <div class=\"colab-df-container\">\n",
              "      <div>\n",
              "<style scoped>\n",
              "    .dataframe tbody tr th:only-of-type {\n",
              "        vertical-align: middle;\n",
              "    }\n",
              "\n",
              "    .dataframe tbody tr th {\n",
              "        vertical-align: top;\n",
              "    }\n",
              "\n",
              "    .dataframe thead th {\n",
              "        text-align: right;\n",
              "    }\n",
              "</style>\n",
              "<table border=\"1\" class=\"dataframe\">\n",
              "  <thead>\n",
              "    <tr style=\"text-align: right;\">\n",
              "      <th></th>\n",
              "      <th>id</th>\n",
              "      <th>user_name</th>\n",
              "      <th>user_location</th>\n",
              "      <th>user_description</th>\n",
              "      <th>user_created</th>\n",
              "      <th>user_followers</th>\n",
              "      <th>user_friends</th>\n",
              "      <th>user_favourites</th>\n",
              "      <th>user_verified</th>\n",
              "      <th>date</th>\n",
              "      <th>...</th>\n",
              "      <th>hashtags</th>\n",
              "      <th>source</th>\n",
              "      <th>retweets</th>\n",
              "      <th>favorites</th>\n",
              "      <th>is_retweet</th>\n",
              "      <th>senti_text</th>\n",
              "      <th>word_count</th>\n",
              "      <th>Subjectivity</th>\n",
              "      <th>Polarity</th>\n",
              "      <th>Computation_Analysis</th>\n",
              "    </tr>\n",
              "  </thead>\n",
              "  <tbody>\n",
              "    <tr>\n",
              "      <th>749</th>\n",
              "      <td>1465687210951430144</td>\n",
              "      <td>PenelopeWinthrop</td>\n",
              "      <td>South Florida</td>\n",
              "      <td>It's no use going back to yesterday because I ...</td>\n",
              "      <td>2014-06-04 03:19:29</td>\n",
              "      <td>3450</td>\n",
              "      <td>2232</td>\n",
              "      <td>2464</td>\n",
              "      <td>False</td>\n",
              "      <td>2021-11-30 14:20:36</td>\n",
              "      <td>...</td>\n",
              "      <td>NaN</td>\n",
              "      <td>Twitter for iPhone</td>\n",
              "      <td>0</td>\n",
              "      <td>0</td>\n",
              "      <td>False</td>\n",
              "      <td>im retweeting fox b however type reporting dis...</td>\n",
              "      <td>11</td>\n",
              "      <td>1.0</td>\n",
              "      <td>-1.0</td>\n",
              "      <td>Negative</td>\n",
              "    </tr>\n",
              "    <tr>\n",
              "      <th>26291</th>\n",
              "      <td>1469440036437377031</td>\n",
              "      <td>🌬 Stay Alert, #Covid_19 Is Still In The Air 🌬</td>\n",
              "      <td>Nederland België Deutschland</td>\n",
              "      <td>De zoektocht naar oorsprong van #COVID_19 #Ori...</td>\n",
              "      <td>2020-03-22 01:58:59</td>\n",
              "      <td>130</td>\n",
              "      <td>125</td>\n",
              "      <td>9145</td>\n",
              "      <td>False</td>\n",
              "      <td>2021-12-10 22:53:00</td>\n",
              "      <td>...</td>\n",
              "      <td>NaN</td>\n",
              "      <td>Twitter Web App</td>\n",
              "      <td>0</td>\n",
              "      <td>0</td>\n",
              "      <td>False</td>\n",
              "      <td>terrible review show covid lab leak theory won...</td>\n",
              "      <td>11</td>\n",
              "      <td>1.0</td>\n",
              "      <td>-1.0</td>\n",
              "      <td>Negative</td>\n",
              "    </tr>\n",
              "    <tr>\n",
              "      <th>9734</th>\n",
              "      <td>1466648872030072835</td>\n",
              "      <td>Gaon Connection English</td>\n",
              "      <td>Lucknow, India</td>\n",
              "      <td>Gaon Connection English is an initiative of Ga...</td>\n",
              "      <td>2019-12-12 08:41:52</td>\n",
              "      <td>6167</td>\n",
              "      <td>115</td>\n",
              "      <td>816</td>\n",
              "      <td>True</td>\n",
              "      <td>2021-12-03 06:01:54</td>\n",
              "      <td>...</td>\n",
              "      <td>['COVID19', 'coronavirus', 'Omicron', 'Omicron...</td>\n",
              "      <td>Twitter for Android</td>\n",
              "      <td>0</td>\n",
              "      <td>0</td>\n",
              "      <td>False</td>\n",
              "      <td>explained known omicron  worst covid variant e...</td>\n",
              "      <td>10</td>\n",
              "      <td>1.0</td>\n",
              "      <td>-1.0</td>\n",
              "      <td>Negative</td>\n",
              "    </tr>\n",
              "    <tr>\n",
              "      <th>51294</th>\n",
              "      <td>1479786555250073601</td>\n",
              "      <td>Selsy</td>\n",
              "      <td>Coimbatore, India</td>\n",
              "      <td>NaN</td>\n",
              "      <td>2022-01-05 13:39:04</td>\n",
              "      <td>1</td>\n",
              "      <td>22</td>\n",
              "      <td>22</td>\n",
              "      <td>False</td>\n",
              "      <td>2022-01-08 12:06:22</td>\n",
              "      <td>...</td>\n",
              "      <td>['corona']</td>\n",
              "      <td>Twitter for Android</td>\n",
              "      <td>0</td>\n",
              "      <td>0</td>\n",
              "      <td>False</td>\n",
              "      <td>2021 wa cruel lost family name corona literall...</td>\n",
              "      <td>11</td>\n",
              "      <td>1.0</td>\n",
              "      <td>-1.0</td>\n",
              "      <td>Negative</td>\n",
              "    </tr>\n",
              "    <tr>\n",
              "      <th>63825</th>\n",
              "      <td>1485608911952498692</td>\n",
              "      <td>Recoon</td>\n",
              "      <td>NaN</td>\n",
              "      <td>NaN</td>\n",
              "      <td>2019-10-16 15:18:22</td>\n",
              "      <td>446</td>\n",
              "      <td>1129</td>\n",
              "      <td>10709</td>\n",
              "      <td>False</td>\n",
              "      <td>2022-01-24 13:42:20</td>\n",
              "      <td>...</td>\n",
              "      <td>['wuhan', 'Omicron']</td>\n",
              "      <td>Twitter for Android</td>\n",
              "      <td>0</td>\n",
              "      <td>0</td>\n",
              "      <td>False</td>\n",
              "      <td>wuhan make life miserable</td>\n",
              "      <td>4</td>\n",
              "      <td>1.0</td>\n",
              "      <td>-1.0</td>\n",
              "      <td>Negative</td>\n",
              "    </tr>\n",
              "  </tbody>\n",
              "</table>\n",
              "<p>5 rows × 21 columns</p>\n",
              "</div>\n",
              "      <button class=\"colab-df-convert\" onclick=\"convertToInteractive('df-7b4e7ab3-9287-4c25-9590-e2c7fa5955e7')\"\n",
              "              title=\"Convert this dataframe to an interactive table.\"\n",
              "              style=\"display:none;\">\n",
              "        \n",
              "  <svg xmlns=\"http://www.w3.org/2000/svg\" height=\"24px\"viewBox=\"0 0 24 24\"\n",
              "       width=\"24px\">\n",
              "    <path d=\"M0 0h24v24H0V0z\" fill=\"none\"/>\n",
              "    <path d=\"M18.56 5.44l.94 2.06.94-2.06 2.06-.94-2.06-.94-.94-2.06-.94 2.06-2.06.94zm-11 1L8.5 8.5l.94-2.06 2.06-.94-2.06-.94L8.5 2.5l-.94 2.06-2.06.94zm10 10l.94 2.06.94-2.06 2.06-.94-2.06-.94-.94-2.06-.94 2.06-2.06.94z\"/><path d=\"M17.41 7.96l-1.37-1.37c-.4-.4-.92-.59-1.43-.59-.52 0-1.04.2-1.43.59L10.3 9.45l-7.72 7.72c-.78.78-.78 2.05 0 2.83L4 21.41c.39.39.9.59 1.41.59.51 0 1.02-.2 1.41-.59l7.78-7.78 2.81-2.81c.8-.78.8-2.07 0-2.86zM5.41 20L4 18.59l7.72-7.72 1.47 1.35L5.41 20z\"/>\n",
              "  </svg>\n",
              "      </button>\n",
              "      \n",
              "  <style>\n",
              "    .colab-df-container {\n",
              "      display:flex;\n",
              "      flex-wrap:wrap;\n",
              "      gap: 12px;\n",
              "    }\n",
              "\n",
              "    .colab-df-convert {\n",
              "      background-color: #E8F0FE;\n",
              "      border: none;\n",
              "      border-radius: 50%;\n",
              "      cursor: pointer;\n",
              "      display: none;\n",
              "      fill: #1967D2;\n",
              "      height: 32px;\n",
              "      padding: 0 0 0 0;\n",
              "      width: 32px;\n",
              "    }\n",
              "\n",
              "    .colab-df-convert:hover {\n",
              "      background-color: #E2EBFA;\n",
              "      box-shadow: 0px 1px 2px rgba(60, 64, 67, 0.3), 0px 1px 3px 1px rgba(60, 64, 67, 0.15);\n",
              "      fill: #174EA6;\n",
              "    }\n",
              "\n",
              "    [theme=dark] .colab-df-convert {\n",
              "      background-color: #3B4455;\n",
              "      fill: #D2E3FC;\n",
              "    }\n",
              "\n",
              "    [theme=dark] .colab-df-convert:hover {\n",
              "      background-color: #434B5C;\n",
              "      box-shadow: 0px 1px 3px 1px rgba(0, 0, 0, 0.15);\n",
              "      filter: drop-shadow(0px 1px 2px rgba(0, 0, 0, 0.3));\n",
              "      fill: #FFFFFF;\n",
              "    }\n",
              "  </style>\n",
              "\n",
              "      <script>\n",
              "        const buttonEl =\n",
              "          document.querySelector('#df-7b4e7ab3-9287-4c25-9590-e2c7fa5955e7 button.colab-df-convert');\n",
              "        buttonEl.style.display =\n",
              "          google.colab.kernel.accessAllowed ? 'block' : 'none';\n",
              "\n",
              "        async function convertToInteractive(key) {\n",
              "          const element = document.querySelector('#df-7b4e7ab3-9287-4c25-9590-e2c7fa5955e7');\n",
              "          const dataTable =\n",
              "            await google.colab.kernel.invokeFunction('convertToInteractive',\n",
              "                                                     [key], {});\n",
              "          if (!dataTable) return;\n",
              "\n",
              "          const docLinkHtml = 'Like what you see? Visit the ' +\n",
              "            '<a target=\"_blank\" href=https://colab.research.google.com/notebooks/data_table.ipynb>data table notebook</a>'\n",
              "            + ' to learn more about interactive tables.';\n",
              "          element.innerHTML = '';\n",
              "          dataTable['output_type'] = 'display_data';\n",
              "          await google.colab.output.renderOutput(dataTable, element);\n",
              "          const docLink = document.createElement('div');\n",
              "          docLink.innerHTML = docLinkHtml;\n",
              "          element.appendChild(docLink);\n",
              "        }\n",
              "      </script>\n",
              "    </div>\n",
              "  </div>\n",
              "  "
            ]
          },
          "metadata": {},
          "execution_count": 27
        }
      ],
      "source": [
        "data_omicron_sort.head()"
      ]
    },
    {
      "cell_type": "markdown",
      "metadata": {
        "id": "e3P786iAWKOF"
      },
      "source": [
        "##Measuring Baseline performance\n"
      ]
    },
    {
      "cell_type": "markdown",
      "metadata": {
        "id": "2-6dF2YtWQr5"
      },
      "source": [
        "###Multinomial Naive Bayes Classifier"
      ]
    },
    {
      "cell_type": "markdown",
      "metadata": {
        "id": "Vw4KvltEWWib"
      },
      "source": [
        "####Vectorising Training Dataset"
      ]
    },
    {
      "cell_type": "markdown",
      "metadata": {
        "id": "Ljn70lnmXJ94"
      },
      "source": [
        "#####Feature extraction"
      ]
    },
    {
      "cell_type": "code",
      "execution_count": null,
      "metadata": {
        "id": "QiPsJn2UWPr0"
      },
      "outputs": [],
      "source": [
        "tfidf = TfidfVectorizer()"
      ]
    },
    {
      "cell_type": "code",
      "execution_count": null,
      "metadata": {
        "id": "vaLqkecHWo7a"
      },
      "outputs": [],
      "source": [
        "tweet_text = tfidf.fit_transform(data_omicron_sort['senti_text'])"
      ]
    },
    {
      "cell_type": "code",
      "execution_count": null,
      "metadata": {
        "colab": {
          "base_uri": "https://localhost:8080/"
        },
        "id": "lRWoNFvvW9IN",
        "outputId": "0b95c133-0b0c-4010-df23-1c69e42d871c"
      },
      "outputs": [
        {
          "output_type": "execute_result",
          "data": {
            "text/plain": [
              "array(['00', '000', '00001', ..., 'zurich', 'zusammengegencorona',\n",
              "       'zussmans'], dtype=object)"
            ]
          },
          "metadata": {},
          "execution_count": 30
        }
      ],
      "source": [
        "tfidf.get_feature_names_out()"
      ]
    },
    {
      "cell_type": "code",
      "execution_count": null,
      "metadata": {
        "colab": {
          "base_uri": "https://localhost:8080/"
        },
        "id": "R_Rh3rABXCNA",
        "outputId": "0e63961e-30eb-4295-bcfb-c03b266a89fc"
      },
      "outputs": [
        {
          "output_type": "stream",
          "name": "stdout",
          "text": [
            "(75389, 46771)\n"
          ]
        }
      ],
      "source": [
        "print(tweet_text.shape)"
      ]
    },
    {
      "cell_type": "markdown",
      "metadata": {
        "id": "fC5R0YMuXHXX"
      },
      "source": [
        "#####Target extraction"
      ]
    },
    {
      "cell_type": "code",
      "execution_count": null,
      "metadata": {
        "id": "L4taDvuwXB-Y"
      },
      "outputs": [],
      "source": [
        "target_lb = LabelBinarizer()"
      ]
    },
    {
      "cell_type": "code",
      "execution_count": null,
      "metadata": {
        "id": "hohMNdgXXgpY"
      },
      "outputs": [],
      "source": [
        "targets=target_lb.fit_transform(data_omicron_sort['Computation_Analysis'])"
      ]
    },
    {
      "cell_type": "code",
      "execution_count": null,
      "metadata": {
        "colab": {
          "base_uri": "https://localhost:8080/"
        },
        "id": "DhTvw6z1lkIm",
        "outputId": "66f44fea-2cd8-4122-c489-63115833a939"
      },
      "outputs": [
        {
          "output_type": "stream",
          "name": "stdout",
          "text": [
            "(75389, 3)\n"
          ]
        }
      ],
      "source": [
        "print(targets.shape)"
      ]
    },
    {
      "cell_type": "code",
      "execution_count": null,
      "metadata": {
        "id": "mmLLvPrx2VuC"
      },
      "outputs": [],
      "source": [
        "target_labels = np.argmax(targets, axis=1)"
      ]
    },
    {
      "cell_type": "markdown",
      "metadata": {
        "id": "kfll-RtIbjmc"
      },
      "source": [
        "####Training model"
      ]
    },
    {
      "cell_type": "code",
      "execution_count": null,
      "metadata": {
        "id": "gJsLxshGat3l"
      },
      "outputs": [],
      "source": [
        "X_train, X_test, y_train, y_test = train_test_split(tweet_text, target_labels, test_size=0.2, random_state=42)"
      ]
    },
    {
      "cell_type": "code",
      "execution_count": null,
      "metadata": {
        "colab": {
          "base_uri": "https://localhost:8080/"
        },
        "id": "7Zy6HBpfcB62",
        "outputId": "2862285a-1516-4089-dc29-04babda1f943"
      },
      "outputs": [
        {
          "output_type": "execute_result",
          "data": {
            "text/plain": [
              "MultinomialNB()"
            ]
          },
          "metadata": {},
          "execution_count": 37
        }
      ],
      "source": [
        "mnb = MultinomialNB()\n",
        "mnb.fit(X_train, y_train)"
      ]
    },
    {
      "cell_type": "code",
      "execution_count": null,
      "metadata": {
        "colab": {
          "base_uri": "https://localhost:8080/"
        },
        "id": "GXq8QEjDcbv7",
        "outputId": "b465b5f8-8943-4bf3-8d78-95b7071f65fa"
      },
      "outputs": [
        {
          "output_type": "stream",
          "name": "stdout",
          "text": [
            "[1 2 2 ... 2 1 2]\n"
          ]
        }
      ],
      "source": [
        "##Predicting the model for tfidf features\n",
        "mnb_tfidf_predict=mnb.predict(X_test)\n",
        "print(mnb_tfidf_predict)"
      ]
    },
    {
      "cell_type": "code",
      "execution_count": null,
      "metadata": {
        "colab": {
          "base_uri": "https://localhost:8080/"
        },
        "id": "b0ax2fWJ117C",
        "outputId": "fb91497e-6c31-4113-8477-f0cddbbc20a0"
      },
      "outputs": [
        {
          "output_type": "stream",
          "name": "stdout",
          "text": [
            "mnb_acc_score : 78.90%\n"
          ]
        }
      ],
      "source": [
        "#Accuracy score \n",
        "mnb_acc_score = accuracy_score(y_test,mnb_tfidf_predict)\n",
        "print(\"mnb_acc_score : {:.2f}%\".format(mnb_acc_score*100))"
      ]
    },
    {
      "cell_type": "code",
      "execution_count": null,
      "metadata": {
        "colab": {
          "base_uri": "https://localhost:8080/",
          "height": 296
        },
        "id": "pdj60jiA2BIa",
        "outputId": "d0b3c41d-7cb9-484b-83ce-6740c3a862d3"
      },
      "outputs": [
        {
          "output_type": "execute_result",
          "data": {
            "text/plain": [
              "<sklearn.metrics._plot.confusion_matrix.ConfusionMatrixDisplay at 0x7f0436ed8d60>"
            ]
          },
          "metadata": {},
          "execution_count": 40
        },
        {
          "output_type": "display_data",
          "data": {
            "text/plain": [
              "<Figure size 432x288 with 2 Axes>"
            ],
            "image/png": "[encoded data removed]"
          },
          "metadata": {
            "needs_background": "light"
          }
        }
      ],
      "source": [
        "cm_mnb = confusion_matrix(y_test, mnb_tfidf_predict, labels=mnb.classes_)\n",
        "disp = ConfusionMatrixDisplay(confusion_matrix=cm_mnb, display_labels=mnb.classes_)\n",
        "disp.plot()"
      ]
    },
    {
      "cell_type": "markdown",
      "metadata": {
        "id": "DzE04HUS-rxb"
      },
      "source": [
        "###Hyper Parameter Tuning"
      ]
    },
    {
      "cell_type": "code",
      "execution_count": null,
      "metadata": {
        "id": "HOcdSNtZ-xR1"
      },
      "outputs": [],
      "source": [
        "param_grid = {\n",
        "    \"gamma\": [0.1, 1.0, 10, 100],\n",
        "    \"C\": [0.1, 1.0, 10, 100]\n",
        "}"
      ]
    },
    {
      "cell_type": "code",
      "execution_count": null,
      "metadata": {
        "id": "S9WHTqMb-6Z4"
      },
      "outputs": [],
      "source": [
        "grid_search = GridSearchCV(SVC(), param_grid)"
      ]
    },
    {
      "cell_type": "code",
      "execution_count": null,
      "metadata": {
        "id": "4WvMacPi-9in"
      },
      "outputs": [],
      "source": [
        "grid_search.fit(X_train, y_train)"
      ]
    },
    {
      "cell_type": "code",
      "source": [
        "print('Best parameter:', grid_search.best_params_)"
      ],
      "metadata": {
        "id": "jc7h9N_5pvSX"
      },
      "execution_count": null,
      "outputs": []
    },
    {
      "cell_type": "code",
      "source": [
        "# Predicting target based on test feature\n",
        "y_pred = grid_search.predict(X_test)"
      ],
      "metadata": {
        "id": "jsruIrwSp6Rc"
      },
      "execution_count": null,
      "outputs": []
    },
    {
      "cell_type": "code",
      "execution_count": null,
      "metadata": {
        "id": "VoiUGeSh_nGz"
      },
      "outputs": [],
      "source": [
        "grid_search.cv_results_"
      ]
    },
    {
      "cell_type": "code",
      "source": [
        "#Calculating Accuracy\n",
        "svm_param_acc = accuracy_score(y_pred, y_test)\n",
        "print(\"Test accuracy: {:2f}%\".format(svm_param_acc*100))"
      ],
      "metadata": {
        "id": "q1kaixaNqBPJ"
      },
      "execution_count": null,
      "outputs": []
    },
    {
      "cell_type": "code",
      "source": [
        "print(confusion_matrix(y_test, y_pred))\n",
        "print(\"\\n\")\n",
        "print(classification_report(y_test, y_pred))"
      ],
      "metadata": {
        "id": "ow11wJxFqJSM"
      },
      "execution_count": null,
      "outputs": []
    },
    {
      "cell_type": "markdown",
      "metadata": {
        "id": "sZ2E2J_f45Rp"
      },
      "source": [
        "##Comparing against Logistic Regression"
      ]
    },
    {
      "cell_type": "code",
      "execution_count": null,
      "metadata": {
        "id": "oEhjtkf3441J"
      },
      "outputs": [],
      "source": [
        "lr = LogisticRegression()"
      ]
    },
    {
      "cell_type": "code",
      "execution_count": null,
      "metadata": {
        "id": "RKjgZA8N5Hj7"
      },
      "outputs": [],
      "source": [
        "lr.fit(X_train, y_train)"
      ]
    },
    {
      "cell_type": "code",
      "execution_count": null,
      "metadata": {
        "id": "DUzd2J9c5Ml0"
      },
      "outputs": [],
      "source": [
        "lr_tfidf_predict=lr.predict(X_test)\n",
        "print(lr_tfidf_predict)"
      ]
    },
    {
      "cell_type": "code",
      "execution_count": null,
      "metadata": {
        "id": "nvQlih1X5wNS"
      },
      "outputs": [],
      "source": [
        "#Accuracy score \n",
        "lr_acc_score = accuracy_score(y_test,lr_tfidf_predict)\n",
        "print(\"lr_acc_score : {:.2f}%\".format(lr_acc_score*100))"
      ]
    },
    {
      "cell_type": "code",
      "execution_count": null,
      "metadata": {
        "id": "AeC4T1lJ537l"
      },
      "outputs": [],
      "source": [
        "cm_lr = confusion_matrix(y_test, lr_tfidf_predict, labels=lr.classes_)\n",
        "disp = ConfusionMatrixDisplay(confusion_matrix=cm_lr, display_labels=lr.classes_)\n",
        "disp.plot()"
      ]
    },
    {
      "cell_type": "markdown",
      "metadata": {
        "id": "iUxJbEZK7Xuy"
      },
      "source": [
        "##Comparing against SVC"
      ]
    },
    {
      "cell_type": "code",
      "execution_count": null,
      "metadata": {
        "id": "g5WKWOZn5_8U"
      },
      "outputs": [],
      "source": [
        "svm = SVC()"
      ]
    },
    {
      "cell_type": "code",
      "execution_count": null,
      "metadata": {
        "id": "W328keQm7mGN"
      },
      "outputs": [],
      "source": [
        "svm.fit(X_train, y_train)"
      ]
    },
    {
      "cell_type": "code",
      "execution_count": null,
      "metadata": {
        "id": "eqkn90w694H4"
      },
      "outputs": [],
      "source": [
        "svm_tfidf_predict=svm.predict(X_test)\n",
        "print(svm_tfidf_predict)"
      ]
    },
    {
      "cell_type": "code",
      "execution_count": null,
      "metadata": {
        "id": "yW0p5E9a-Anh"
      },
      "outputs": [],
      "source": [
        "#Accuracy score \n",
        "svm_acc_score = accuracy_score(y_test,svm_tfidf_predict)\n",
        "print(\"svm_acc_score : {:.2f}%\".format(svm_acc_score*100))"
      ]
    },
    {
      "cell_type": "code",
      "execution_count": null,
      "metadata": {
        "id": "Rv3Y7X-z-Lol"
      },
      "outputs": [],
      "source": [
        "cm_svm = confusion_matrix(y_test, svm_tfidf_predict, labels=svm.classes_)\n",
        "disp = ConfusionMatrixDisplay(confusion_matrix=cm_svm, display_labels=svm.classes_)\n",
        "disp.plot()"
      ]
    }
  ],
  "metadata": {
    "colab": {
      "provenance": [],
      "collapsed_sections": [
        "Lfy_rnz12sLD"
      ]
    },
    "kernelspec": {
      "display_name": "Python 3",
      "name": "python3"
    },
    "language_info": {
      "name": "python"
    }
  },
  "nbformat": 4,
  "nbformat_minor": 0
}